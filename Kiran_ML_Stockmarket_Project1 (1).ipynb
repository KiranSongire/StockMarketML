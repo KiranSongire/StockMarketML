{
 "cells": [
  {
   "cell_type": "markdown",
   "id": "d2bd60b8",
   "metadata": {},
   "source": [
    "### Machine Learning Project1\n",
    "\n",
    "Name : Kiran Songire <br>\n",
    "U01720594"
   ]
  },
  {
   "cell_type": "code",
   "execution_count": 1,
   "id": "50ce6e80",
   "metadata": {},
   "outputs": [
    {
     "name": "stderr",
     "output_type": "stream",
     "text": [
      "C:\\Users\\kiran\\anaconda3\\lib\\site-packages\\xgboost\\compat.py:36: FutureWarning: pandas.Int64Index is deprecated and will be removed from pandas in a future version. Use pandas.Index with the appropriate dtype instead.\n",
      "  from pandas import MultiIndex, Int64Index\n"
     ]
    }
   ],
   "source": [
    "import pandas as pd\n",
    "import numpy as np\n",
    "import matplotlib.pyplot as plt\n",
    "import seaborn as sns\n",
    "import yfinance as yf\n",
    "\n",
    "from sklearn.model_selection import train_test_split\n",
    "from sklearn import metrics\n",
    "from sklearn.metrics import confusion_matrix, roc_curve, roc_auc_score, classification_report\n",
    "from sklearn.model_selection import cross_val_score \n",
    "from sklearn.neighbors import KNeighborsClassifier\n",
    "from sklearn.ensemble import RandomForestClassifier, GradientBoostingClassifier\n",
    "from sklearn.svm import SVC\n",
    "from sklearn.model_selection import RandomizedSearchCV\n",
    "from sklearn.model_selection import GridSearchCV\n",
    "from xgboost import XGBClassifier\n",
    "from sklearn.ensemble import BaggingClassifier\n"
   ]
  },
  {
   "cell_type": "code",
   "execution_count": 2,
   "id": "8f392525",
   "metadata": {},
   "outputs": [
    {
     "name": "stdout",
     "output_type": "stream",
     "text": [
      "Requirement already satisfied: yfinance in c:\\users\\kiran\\anaconda3\\lib\\site-packages (0.1.74)\n",
      "Requirement already satisfied: multitasking>=0.0.7 in c:\\users\\kiran\\anaconda3\\lib\\site-packages (from yfinance) (0.0.11)\n",
      "Requirement already satisfied: pandas>=0.24.0 in c:\\users\\kiran\\anaconda3\\lib\\site-packages (from yfinance) (1.4.4)\n",
      "Requirement already satisfied: numpy>=1.15 in c:\\users\\kiran\\anaconda3\\lib\\site-packages (from yfinance) (1.22.3)\n",
      "Requirement already satisfied: lxml>=4.5.1 in c:\\users\\kiran\\anaconda3\\lib\\site-packages (from yfinance) (4.6.3)\n",
      "Requirement already satisfied: requests>=2.26 in c:\\users\\kiran\\anaconda3\\lib\\site-packages (from yfinance) (2.26.0)\n",
      "Requirement already satisfied: pytz>=2020.1 in c:\\users\\kiran\\anaconda3\\lib\\site-packages (from pandas>=0.24.0->yfinance) (2021.3)\n",
      "Requirement already satisfied: python-dateutil>=2.8.1 in c:\\users\\kiran\\anaconda3\\lib\\site-packages (from pandas>=0.24.0->yfinance) (2.8.2)\n",
      "Requirement already satisfied: urllib3<1.27,>=1.21.1 in c:\\users\\kiran\\anaconda3\\lib\\site-packages (from requests>=2.26->yfinance) (1.26.7)\n",
      "Requirement already satisfied: idna<4,>=2.5 in c:\\users\\kiran\\anaconda3\\lib\\site-packages (from requests>=2.26->yfinance) (3.2)\n",
      "Requirement already satisfied: charset-normalizer~=2.0.0 in c:\\users\\kiran\\anaconda3\\lib\\site-packages (from requests>=2.26->yfinance) (2.0.4)\n",
      "Requirement already satisfied: certifi>=2017.4.17 in c:\\users\\kiran\\anaconda3\\lib\\site-packages (from requests>=2.26->yfinance) (2022.9.24)\n",
      "Requirement already satisfied: six>=1.5 in c:\\users\\kiran\\anaconda3\\lib\\site-packages (from python-dateutil>=2.8.1->pandas>=0.24.0->yfinance) (1.16.0)\n",
      "Note: you may need to restart the kernel to use updated packages.\n"
     ]
    }
   ],
   "source": [
    "pip install yfinance\n"
   ]
  },
  {
   "cell_type": "code",
   "execution_count": 3,
   "id": "8de21d72",
   "metadata": {},
   "outputs": [],
   "source": [
    "### Load Data "
   ]
  },
  {
   "cell_type": "code",
   "execution_count": 4,
   "id": "aaa88837",
   "metadata": {},
   "outputs": [
    {
     "name": "stdout",
     "output_type": "stream",
     "text": [
      "[*********************100%***********************]  1 of 1 completed\n"
     ]
    }
   ],
   "source": [
    "# Loaded stock data of IBM using yfinance API\n",
    "\n",
    "IBM_data = yf.download(\"IBM\", start=\"2015-01-01\", end=\"2021-12-31\")\n"
   ]
  },
  {
   "cell_type": "code",
   "execution_count": 5,
   "id": "b35c3024",
   "metadata": {},
   "outputs": [
    {
     "data": {
      "text/plain": [
       "(1762, 6)"
      ]
     },
     "execution_count": 5,
     "metadata": {},
     "output_type": "execute_result"
    }
   ],
   "source": [
    "IBM_data.shape"
   ]
  },
  {
   "cell_type": "code",
   "execution_count": 6,
   "id": "02cec44b",
   "metadata": {},
   "outputs": [
    {
     "data": {
      "text/html": [
       "<div>\n",
       "<style scoped>\n",
       "    .dataframe tbody tr th:only-of-type {\n",
       "        vertical-align: middle;\n",
       "    }\n",
       "\n",
       "    .dataframe tbody tr th {\n",
       "        vertical-align: top;\n",
       "    }\n",
       "\n",
       "    .dataframe thead th {\n",
       "        text-align: right;\n",
       "    }\n",
       "</style>\n",
       "<table border=\"1\" class=\"dataframe\">\n",
       "  <thead>\n",
       "    <tr style=\"text-align: right;\">\n",
       "      <th></th>\n",
       "      <th>Open</th>\n",
       "      <th>High</th>\n",
       "      <th>Low</th>\n",
       "      <th>Close</th>\n",
       "      <th>Adj Close</th>\n",
       "      <th>Volume</th>\n",
       "    </tr>\n",
       "    <tr>\n",
       "      <th>Date</th>\n",
       "      <th></th>\n",
       "      <th></th>\n",
       "      <th></th>\n",
       "      <th></th>\n",
       "      <th></th>\n",
       "      <th></th>\n",
       "    </tr>\n",
       "  </thead>\n",
       "  <tbody>\n",
       "    <tr>\n",
       "      <th>2015-01-02</th>\n",
       "      <td>154.216064</td>\n",
       "      <td>156.128113</td>\n",
       "      <td>153.919693</td>\n",
       "      <td>154.933075</td>\n",
       "      <td>110.782295</td>\n",
       "      <td>5779673</td>\n",
       "    </tr>\n",
       "    <tr>\n",
       "      <th>2015-01-05</th>\n",
       "      <td>154.177826</td>\n",
       "      <td>154.177826</td>\n",
       "      <td>152.189301</td>\n",
       "      <td>152.495224</td>\n",
       "      <td>109.039169</td>\n",
       "      <td>5104898</td>\n",
       "    </tr>\n",
       "    <tr>\n",
       "      <th>2015-01-06</th>\n",
       "      <td>152.648178</td>\n",
       "      <td>152.925430</td>\n",
       "      <td>148.346085</td>\n",
       "      <td>149.206497</td>\n",
       "      <td>106.687584</td>\n",
       "      <td>6429448</td>\n",
       "    </tr>\n",
       "    <tr>\n",
       "      <th>2015-01-07</th>\n",
       "      <td>150.286804</td>\n",
       "      <td>150.286804</td>\n",
       "      <td>147.256210</td>\n",
       "      <td>148.231354</td>\n",
       "      <td>105.990387</td>\n",
       "      <td>4918083</td>\n",
       "    </tr>\n",
       "    <tr>\n",
       "      <th>2015-01-08</th>\n",
       "      <td>149.369019</td>\n",
       "      <td>152.045883</td>\n",
       "      <td>148.709366</td>\n",
       "      <td>151.453156</td>\n",
       "      <td>108.294037</td>\n",
       "      <td>4431693</td>\n",
       "    </tr>\n",
       "  </tbody>\n",
       "</table>\n",
       "</div>"
      ],
      "text/plain": [
       "                  Open        High         Low       Close   Adj Close  \\\n",
       "Date                                                                     \n",
       "2015-01-02  154.216064  156.128113  153.919693  154.933075  110.782295   \n",
       "2015-01-05  154.177826  154.177826  152.189301  152.495224  109.039169   \n",
       "2015-01-06  152.648178  152.925430  148.346085  149.206497  106.687584   \n",
       "2015-01-07  150.286804  150.286804  147.256210  148.231354  105.990387   \n",
       "2015-01-08  149.369019  152.045883  148.709366  151.453156  108.294037   \n",
       "\n",
       "             Volume  \n",
       "Date                 \n",
       "2015-01-02  5779673  \n",
       "2015-01-05  5104898  \n",
       "2015-01-06  6429448  \n",
       "2015-01-07  4918083  \n",
       "2015-01-08  4431693  "
      ]
     },
     "execution_count": 6,
     "metadata": {},
     "output_type": "execute_result"
    }
   ],
   "source": [
    "IBM_data.head()"
   ]
  },
  {
   "cell_type": "markdown",
   "id": "d2762ac1",
   "metadata": {},
   "source": [
    "Adj_Open/Adj_Close — An adjusted opening/closing price is a stock’s price on any given day of trading that has been   revised to include any dividend distributions, stock splits, and other corporate actions that occurred at any time     before the next day’s open. <br>\n",
    "High/Low — It tracks the highest and the lowest price of the stock during a particular day of trading.\n"
   ]
  },
  {
   "cell_type": "markdown",
   "id": "481c3a92",
   "metadata": {},
   "source": [
    "### Exploratory Data Analysis"
   ]
  },
  {
   "cell_type": "code",
   "execution_count": 7,
   "id": "7d0be55b",
   "metadata": {},
   "outputs": [
    {
     "name": "stdout",
     "output_type": "stream",
     "text": [
      "<class 'pandas.core.frame.DataFrame'>\n",
      "DatetimeIndex: 1762 entries, 2015-01-02 to 2021-12-30\n",
      "Data columns (total 6 columns):\n",
      " #   Column     Non-Null Count  Dtype  \n",
      "---  ------     --------------  -----  \n",
      " 0   Open       1762 non-null   float64\n",
      " 1   High       1762 non-null   float64\n",
      " 2   Low        1762 non-null   float64\n",
      " 3   Close      1762 non-null   float64\n",
      " 4   Adj Close  1762 non-null   float64\n",
      " 5   Volume     1762 non-null   int64  \n",
      "dtypes: float64(5), int64(1)\n",
      "memory usage: 96.4 KB\n"
     ]
    }
   ],
   "source": [
    "# check for data type and missing values:\n",
    "\n",
    "IBM_data.info()"
   ]
  },
  {
   "cell_type": "code",
   "execution_count": 8,
   "id": "e2933928",
   "metadata": {},
   "outputs": [
    {
     "data": {
      "text/plain": [
       "0"
      ]
     },
     "execution_count": 8,
     "metadata": {},
     "output_type": "execute_result"
    }
   ],
   "source": [
    "IBM_data.duplicated().sum()"
   ]
  },
  {
   "cell_type": "code",
   "execution_count": 9,
   "id": "6fd48715",
   "metadata": {},
   "outputs": [
    {
     "data": {
      "text/plain": [
       "Index(['Open', 'High', 'Low', 'Close', 'Adj Close', 'Volume'], dtype='object')"
      ]
     },
     "execution_count": 9,
     "metadata": {},
     "output_type": "execute_result"
    }
   ],
   "source": [
    "features = IBM_data.columns\n",
    "features"
   ]
  },
  {
   "cell_type": "code",
   "execution_count": 10,
   "id": "31434211",
   "metadata": {},
   "outputs": [
    {
     "data": {
      "text/plain": [
       "<AxesSubplot:xlabel='Volume'>"
      ]
     },
     "execution_count": 10,
     "metadata": {},
     "output_type": "execute_result"
    },
    {
     "data": {
      "image/png": "[encoded data removed]",
      "text/plain": [
       "<Figure size 432x288 with 1 Axes>"
      ]
     },
     "metadata": {
      "needs_background": "light"
     },
     "output_type": "display_data"
    }
   ],
   "source": [
    "sns.boxplot(x=IBM_data['Volume'])    "
   ]
  },
  {
   "cell_type": "markdown",
   "id": "56e58380",
   "metadata": {},
   "source": [
    "##Just removing outliers from the stock time series is generally not a good idea: \n",
    "There may be possibility of profit days and losses."
   ]
  },
  {
   "cell_type": "code",
   "execution_count": 11,
   "id": "9296787a",
   "metadata": {},
   "outputs": [],
   "source": [
    "#For that we should normalize the data where:\n",
    "#Transforming variables can also eliminate outliers. These transformed values reduces the variation caused by extreme values.\n",
    "# Normalize the data \n"
   ]
  },
  {
   "cell_type": "code",
   "execution_count": 12,
   "id": "269d0b80",
   "metadata": {},
   "outputs": [],
   "source": [
    "# find the min max of the column\n",
    "def min_max_scaling(series):\n",
    "    return (series - series.min()) / (series.max() - series.min())"
   ]
  },
  {
   "cell_type": "code",
   "execution_count": 13,
   "id": "f6275172",
   "metadata": {},
   "outputs": [
    {
     "data": {
      "text/html": [
       "<div>\n",
       "<style scoped>\n",
       "    .dataframe tbody tr th:only-of-type {\n",
       "        vertical-align: middle;\n",
       "    }\n",
       "\n",
       "    .dataframe tbody tr th {\n",
       "        vertical-align: top;\n",
       "    }\n",
       "\n",
       "    .dataframe thead th {\n",
       "        text-align: right;\n",
       "    }\n",
       "</style>\n",
       "<table border=\"1\" class=\"dataframe\">\n",
       "  <thead>\n",
       "    <tr style=\"text-align: right;\">\n",
       "      <th></th>\n",
       "      <th>Open</th>\n",
       "      <th>High</th>\n",
       "      <th>Low</th>\n",
       "      <th>Close</th>\n",
       "      <th>Adj Close</th>\n",
       "      <th>Volume</th>\n",
       "    </tr>\n",
       "    <tr>\n",
       "      <th>Date</th>\n",
       "      <th></th>\n",
       "      <th></th>\n",
       "      <th></th>\n",
       "      <th></th>\n",
       "      <th></th>\n",
       "      <th></th>\n",
       "    </tr>\n",
       "  </thead>\n",
       "  <tbody>\n",
       "    <tr>\n",
       "      <th>2015-01-02</th>\n",
       "      <td>154.216064</td>\n",
       "      <td>156.128113</td>\n",
       "      <td>153.919693</td>\n",
       "      <td>154.933075</td>\n",
       "      <td>110.782295</td>\n",
       "      <td>5779673</td>\n",
       "    </tr>\n",
       "    <tr>\n",
       "      <th>2015-01-05</th>\n",
       "      <td>154.177826</td>\n",
       "      <td>154.177826</td>\n",
       "      <td>152.189301</td>\n",
       "      <td>152.495224</td>\n",
       "      <td>109.039169</td>\n",
       "      <td>5104898</td>\n",
       "    </tr>\n",
       "    <tr>\n",
       "      <th>2015-01-06</th>\n",
       "      <td>152.648178</td>\n",
       "      <td>152.925430</td>\n",
       "      <td>148.346085</td>\n",
       "      <td>149.206497</td>\n",
       "      <td>106.687584</td>\n",
       "      <td>6429448</td>\n",
       "    </tr>\n",
       "    <tr>\n",
       "      <th>2015-01-07</th>\n",
       "      <td>150.286804</td>\n",
       "      <td>150.286804</td>\n",
       "      <td>147.256210</td>\n",
       "      <td>148.231354</td>\n",
       "      <td>105.990387</td>\n",
       "      <td>4918083</td>\n",
       "    </tr>\n",
       "    <tr>\n",
       "      <th>2015-01-08</th>\n",
       "      <td>149.369019</td>\n",
       "      <td>152.045883</td>\n",
       "      <td>148.709366</td>\n",
       "      <td>151.453156</td>\n",
       "      <td>108.294037</td>\n",
       "      <td>4431693</td>\n",
       "    </tr>\n",
       "    <tr>\n",
       "      <th>...</th>\n",
       "      <td>...</td>\n",
       "      <td>...</td>\n",
       "      <td>...</td>\n",
       "      <td>...</td>\n",
       "      <td>...</td>\n",
       "      <td>...</td>\n",
       "    </tr>\n",
       "    <tr>\n",
       "      <th>2021-12-23</th>\n",
       "      <td>130.000000</td>\n",
       "      <td>130.960007</td>\n",
       "      <td>129.520004</td>\n",
       "      <td>130.630005</td>\n",
       "      <td>125.941460</td>\n",
       "      <td>3649000</td>\n",
       "    </tr>\n",
       "    <tr>\n",
       "      <th>2021-12-27</th>\n",
       "      <td>130.630005</td>\n",
       "      <td>131.649994</td>\n",
       "      <td>129.949997</td>\n",
       "      <td>131.619995</td>\n",
       "      <td>126.895927</td>\n",
       "      <td>4293900</td>\n",
       "    </tr>\n",
       "    <tr>\n",
       "      <th>2021-12-28</th>\n",
       "      <td>131.600006</td>\n",
       "      <td>133.220001</td>\n",
       "      <td>131.589996</td>\n",
       "      <td>132.630005</td>\n",
       "      <td>127.869667</td>\n",
       "      <td>3445200</td>\n",
       "    </tr>\n",
       "    <tr>\n",
       "      <th>2021-12-29</th>\n",
       "      <td>132.399994</td>\n",
       "      <td>134.210007</td>\n",
       "      <td>132.300003</td>\n",
       "      <td>133.350006</td>\n",
       "      <td>128.563843</td>\n",
       "      <td>4239900</td>\n",
       "    </tr>\n",
       "    <tr>\n",
       "      <th>2021-12-30</th>\n",
       "      <td>133.750000</td>\n",
       "      <td>134.369995</td>\n",
       "      <td>133.330002</td>\n",
       "      <td>133.910004</td>\n",
       "      <td>129.103745</td>\n",
       "      <td>3158100</td>\n",
       "    </tr>\n",
       "  </tbody>\n",
       "</table>\n",
       "<p>1762 rows × 6 columns</p>\n",
       "</div>"
      ],
      "text/plain": [
       "                  Open        High         Low       Close   Adj Close  \\\n",
       "Date                                                                     \n",
       "2015-01-02  154.216064  156.128113  153.919693  154.933075  110.782295   \n",
       "2015-01-05  154.177826  154.177826  152.189301  152.495224  109.039169   \n",
       "2015-01-06  152.648178  152.925430  148.346085  149.206497  106.687584   \n",
       "2015-01-07  150.286804  150.286804  147.256210  148.231354  105.990387   \n",
       "2015-01-08  149.369019  152.045883  148.709366  151.453156  108.294037   \n",
       "...                ...         ...         ...         ...         ...   \n",
       "2021-12-23  130.000000  130.960007  129.520004  130.630005  125.941460   \n",
       "2021-12-27  130.630005  131.649994  129.949997  131.619995  126.895927   \n",
       "2021-12-28  131.600006  133.220001  131.589996  132.630005  127.869667   \n",
       "2021-12-29  132.399994  134.210007  132.300003  133.350006  128.563843   \n",
       "2021-12-30  133.750000  134.369995  133.330002  133.910004  129.103745   \n",
       "\n",
       "             Volume  \n",
       "Date                 \n",
       "2015-01-02  5779673  \n",
       "2015-01-05  5104898  \n",
       "2015-01-06  6429448  \n",
       "2015-01-07  4918083  \n",
       "2015-01-08  4431693  \n",
       "...             ...  \n",
       "2021-12-23  3649000  \n",
       "2021-12-27  4293900  \n",
       "2021-12-28  3445200  \n",
       "2021-12-29  4239900  \n",
       "2021-12-30  3158100  \n",
       "\n",
       "[1762 rows x 6 columns]"
      ]
     },
     "execution_count": 13,
     "metadata": {},
     "output_type": "execute_result"
    }
   ],
   "source": [
    "IBM_data"
   ]
  },
  {
   "cell_type": "markdown",
   "id": "c5913b1a",
   "metadata": {},
   "source": [
    "###  ML Classifier Models:\n",
    "K-Nearest Neighbors (KNN) <br>\n",
    "Random Forest Classifier (RF) <br>\n",
    "Gradient Boosting Classifier (GB) <br>\n",
    "Support Vector Machines (SVMs) <br>\n",
    "XGBoost Classifier\n"
   ]
  },
  {
   "cell_type": "code",
   "execution_count": 14,
   "id": "68e20a9d",
   "metadata": {},
   "outputs": [],
   "source": [
    "scoreparam_df = pd.DataFrame(columns = ['Classifier', 'Stategy', 'Accuracy', 'Precision', 'Recall'])"
   ]
  },
  {
   "cell_type": "markdown",
   "id": "287991ad",
   "metadata": {},
   "source": [
    "#### 1. K-Nearest Neighbors (KNN)"
   ]
  },
  {
   "cell_type": "code",
   "execution_count": 15,
   "id": "b4944d84",
   "metadata": {},
   "outputs": [],
   "source": [
    "# created function to get Accuracy, Precision, Recall\n",
    "\n",
    "def model_accuracy_precision_recall(y_test, y_pred):\n",
    "    print(\"\\n\\n================== Accuracy, Precision, Recall ==================\")\n",
    "    print(\"Accuracy:\",metrics.accuracy_score(y_test, y_pred))\n",
    "    print(\"Precision:\",metrics.precision_score(y_test, y_pred))\n",
    "    print(\"Recall:\",metrics.recall_score(y_test, y_pred))"
   ]
  },
  {
   "cell_type": "code",
   "execution_count": 16,
   "id": "a2780ae4",
   "metadata": {},
   "outputs": [],
   "source": [
    "def store_modelscore(algo, stategy, y_test, y_pred):\n",
    "    \n",
    "    # Store the scores for comparision  \n",
    "    \n",
    "    acc = metrics.accuracy_score(y_test, y_pred)\n",
    "    pre = metrics.precision_score(y_test, y_pred)\n",
    "    rec = metrics.recall_score(y_test, y_pred)\n",
    "    #print(acc, pre, rec)\n",
    "    scoreparam_df = score_df.append({'Classifier' : algo, 'Stategy' : stategy, 'Accuracy' : acc, 'Precision': pre,'Recall': rec}, \n",
    "                ignore_index = True)\n",
    "    \n",
    "    print(scoreparam_df)\n"
   ]
  },
  {
   "cell_type": "code",
   "execution_count": 17,
   "id": "3b4d0ce4",
   "metadata": {},
   "outputs": [],
   "source": [
    "def fitting_datato_knnmodel(Stategy, X_train, y_train, X_test, y_test):\n",
    "    # Building K-Nearest Neighbors model \n",
    "    knearest = KNeighborsClassifier()\n",
    "\n",
    "    # fit the model with data\n",
    "    knearest.fit(X_train, y_train)\n",
    "    \n",
    "    # Predict the X_test using KNN\n",
    "    y_pred=knearest.predict(X_test)\n",
    "\n",
    "    print(\"\\n\\n*****confusion matrix *****\")\n",
    "    cnf_matrix = metrics.confusion_matrix(y_test, y_pred)\n",
    "    print(cnf_matrix)\n",
    "    \n",
    "    model_accuracy_precision_recall(y_test, y_pred)\n",
    "    print(\"\\n\\n***************** classification report ****************\")\n",
    "    print(classification_report(y_test, y_pred))\n",
    "    #store_modelscore('KNN', Stategy, y_test, y_pred)    \n",
    "    \n",
    "    return y_pred\n"
   ]
  },
  {
   "cell_type": "markdown",
   "id": "023495cb",
   "metadata": {},
   "source": [
    "#### 2. Random Forest Classifier (RF)"
   ]
  },
  {
   "cell_type": "code",
   "execution_count": 18,
   "id": "9118a286",
   "metadata": {},
   "outputs": [],
   "source": [
    "def fitting_datato_rfmodel(Stategy, X_train, y_train, X_test, y_test):\n",
    "    # Building Random Forest model \n",
    "    random_forest = RandomForestClassifier()\n",
    "\n",
    "    # fit the model with data\n",
    "    random_forest.fit(X_train, y_train)\n",
    "\n",
    "    # Predict the Xtest data with random_forest  model \n",
    "    y_pred = random_forest.predict(X_test)\n",
    "\n",
    "    print(\"\\n\\n******** confusion matrix ******************\")\n",
    "    cnf_matrix = metrics.confusion_matrix(y_test, y_pred)\n",
    "    print(cnf_matrix)\n",
    "    \n",
    "    model_accuracy_precision_recall(y_test, y_pred)\n",
    "    print(\"\\n\\n****************** classification report ******************\")\n",
    "    print(classification_report(y_test, y_pred))\n",
    "    \n",
    "    #store_modelscore('RF', Stategy, y_test, y_pred)  \n",
    "    return y_pred"
   ]
  },
  {
   "cell_type": "markdown",
   "id": "3642cc10",
   "metadata": {},
   "source": [
    "#### 3) Gradient Boosting Classifier (GB)"
   ]
  },
  {
   "cell_type": "code",
   "execution_count": 19,
   "id": "fe435f09",
   "metadata": {},
   "outputs": [],
   "source": [
    "\n",
    "def fitting_datato_gradient_boostermodel(Stategy, X_train, y_train, X_test, y_test):\n",
    "    # Building gradient_booster model \n",
    "    gradient_booster = GradientBoostingClassifier()\n",
    "\n",
    "    # fit the model with data\n",
    "    gradient_booster.fit(X_train, y_train)\n",
    "\n",
    "    # Predict the Xtest data with random_forest  model \n",
    "    y_pred = gradient_booster.predict(X_test)\n",
    "\n",
    "    print(\"\\n\\n******** confusion matrix ********\")\n",
    "    cnf_matrix = metrics.confusion_matrix(y_test, y_pred)\n",
    "    print(cnf_matrix)\n",
    "   \n",
    "    model_accuracy_precision_recall(y_test, y_pred)\n",
    "    print(\"\\n\\n****************** classification report ******************\")\n",
    "    print(classification_report(y_test, y_pred))\n",
    "    \n",
    "    #store_modelscore('GB', Stategy, y_test, y_pred)  \n",
    "    return y_pred"
   ]
  },
  {
   "cell_type": "markdown",
   "id": "31793695",
   "metadata": {},
   "source": [
    "#### 4) Support Vector Machines (SVMs)"
   ]
  },
  {
   "cell_type": "code",
   "execution_count": 20,
   "id": "239a7f1a",
   "metadata": {},
   "outputs": [],
   "source": [
    "\n",
    "def fitting_datato_svmmodel(Stategy, X_train, y_train, X_test, y_test):\n",
    "    # Building svc model \n",
    "    svc = SVC()\n",
    "    \n",
    "    # fit the model with data\n",
    "    svc.fit(X_train, y_train)\n",
    "\n",
    "    # Predict the Xtest data with svc  model \n",
    "    y_pred = svc.predict(X_test)\n",
    "\n",
    "    print(\"\\n\\n********* confusion matrix **********\")\n",
    "    cnf_matrix = metrics.confusion_matrix(y_test, y_pred)\n",
    "    print(cnf_matrix)\n",
    "   \n",
    "    model_accuracy_precision_recall(y_test, y_pred)\n",
    "    print(\"\\n\\n****************** classification report ******************\")\n",
    "    print(classification_report(y_test, y_pred))\n",
    "    \n",
    "    #store_modelscore('GB', Stategy, y_test, y_pred)    \n",
    "    return y_pred"
   ]
  },
  {
   "cell_type": "markdown",
   "id": "bfb2f1a9",
   "metadata": {},
   "source": [
    "#### 5) XGBoost Classifier"
   ]
  },
  {
   "cell_type": "code",
   "execution_count": 21,
   "id": "f553af0f",
   "metadata": {},
   "outputs": [],
   "source": [
    "def fitting_datato_xgboostmodel(Stategy, X_train, y_train, X_test, y_test):\n",
    "    \n",
    "    #The XG boosting decision tree algorithm.\n",
    "    xcb_model = XGBClassifier()\n",
    "\n",
    "    # fit the model with data\n",
    "    xcb_model.fit(X_train, y_train)\n",
    "\n",
    "    # Predict the Xtest data with XG model \n",
    "    y_pred = xcb_model.predict(X_test)\n",
    "\n",
    "    print(\"\\n\\n******** confusion matrix *********\")\n",
    "    cnf_matrix = metrics.confusion_matrix(y_test, y_pred)\n",
    "    print(cnf_matrix)\n",
    "                           \n",
    "    model_accuracy_precision_recall(y_test, y_pred)\n",
    "    print(\"\\n\\n****************** classification report ****************\")\n",
    "    print(classification_report(y_test, y_pred))\n",
    "    return y_pred"
   ]
  },
  {
   "cell_type": "markdown",
   "id": "2c17f931",
   "metadata": {},
   "source": [
    "###  Strategy-1: \n",
    "If the next trading day's close price is greater than today's close price then,  the signal is ‘buy’,  otherwise ‘sell’."
   ]
  },
  {
   "cell_type": "code",
   "execution_count": 22,
   "id": "a92b9fa3",
   "metadata": {},
   "outputs": [],
   "source": [
    "IBM_data_Strategy1 = IBM_data.copy()"
   ]
  },
  {
   "cell_type": "code",
   "execution_count": 23,
   "id": "caa913cb",
   "metadata": {},
   "outputs": [],
   "source": [
    "# normalize the values\n",
    "for col in IBM_data_Strategy1.columns:\n",
    "        IBM_data_Strategy1[col] = min_max_scaling(IBM_data_Strategy1[col])"
   ]
  },
  {
   "cell_type": "code",
   "execution_count": 24,
   "id": "30eda5be",
   "metadata": {},
   "outputs": [],
   "source": [
    "# Parameterized XGBoost gives error label value -1\n",
    "\n",
    "IBM_data_Strategy1['label'] = np.where(IBM_data_Strategy1['Close'].shift(-1) > IBM_data_Strategy1['Close'], 1, -1)"
   ]
  },
  {
   "cell_type": "code",
   "execution_count": 25,
   "id": "6feece1c",
   "metadata": {},
   "outputs": [
    {
     "data": {
      "text/plain": [
       " 1    911\n",
       "-1    851\n",
       "Name: label, dtype: int64"
      ]
     },
     "execution_count": 25,
     "metadata": {},
     "output_type": "execute_result"
    }
   ],
   "source": [
    "IBM_data_Strategy1['label'].value_counts()"
   ]
  },
  {
   "cell_type": "markdown",
   "id": "92c9f654",
   "metadata": {},
   "source": [
    "### Spilt the data into training and test datasets (use the 80,20 percent ratio.)"
   ]
  },
  {
   "cell_type": "code",
   "execution_count": 26,
   "id": "0a4948a0",
   "metadata": {},
   "outputs": [],
   "source": [
    "label = IBM_data_Strategy1['label']\n",
    "features_col = IBM_data_Strategy1.drop(['label'], axis = 1)\n"
   ]
  },
  {
   "cell_type": "code",
   "execution_count": 27,
   "id": "c1976ff3",
   "metadata": {},
   "outputs": [],
   "source": [
    "# Dividing the dataset in train (80%) and test (20%)\n",
    "\n",
    "X_train, X_test, y_train, y_test = train_test_split(features_col, label, test_size = 0.2, random_state = 40)\n"
   ]
  },
  {
   "cell_type": "markdown",
   "id": "7b933d66",
   "metadata": {},
   "source": [
    "#### 1)  KNN"
   ]
  },
  {
   "cell_type": "code",
   "execution_count": 28,
   "id": "852dda49",
   "metadata": {},
   "outputs": [
    {
     "name": "stdout",
     "output_type": "stream",
     "text": [
      "\n",
      "\n",
      "*****confusion matrix *****\n",
      "[[ 76 100]\n",
      " [ 83  94]]\n",
      "\n",
      "\n",
      "================== Accuracy, Precision, Recall ==================\n",
      "Accuracy: 0.48158640226628896\n",
      "Precision: 0.4845360824742268\n",
      "Recall: 0.5310734463276836\n",
      "\n",
      "\n",
      "***************** classification report ****************\n",
      "              precision    recall  f1-score   support\n",
      "\n",
      "          -1       0.48      0.43      0.45       176\n",
      "           1       0.48      0.53      0.51       177\n",
      "\n",
      "    accuracy                           0.48       353\n",
      "   macro avg       0.48      0.48      0.48       353\n",
      "weighted avg       0.48      0.48      0.48       353\n",
      "\n"
     ]
    },
    {
     "name": "stderr",
     "output_type": "stream",
     "text": [
      "C:\\Users\\kiran\\AppData\\Local\\Temp\\ipykernel_23932\\240345179.py:6: FutureWarning: The frame.append method is deprecated and will be removed from pandas in a future version. Use pandas.concat instead.\n",
      "  scoreparam_df = scoreparam_df.append({'Classifier' : 'KNN', 'Stategy' : 'Stategy 1', 'Accuracy' : acc_knn_stat1, 'Precision': pre_knn_stat1,'Recall': rec_knn_stat1},\n"
     ]
    }
   ],
   "source": [
    "y_pred = fitting_datato_knnmodel('Stategy1', X_train, y_train, X_test, y_test)\n",
    "acc_knn_stat1 = metrics.accuracy_score(y_test, y_pred)\n",
    "pre_knn_stat1 = metrics.precision_score(y_test, y_pred)\n",
    "rec_knn_stat1 = metrics.recall_score(y_test, y_pred)\n",
    "\n",
    "scoreparam_df = scoreparam_df.append({'Classifier' : 'KNN', 'Stategy' : 'Stategy 1', 'Accuracy' : acc_knn_stat1, 'Precision': pre_knn_stat1,'Recall': rec_knn_stat1}, \n",
    "                ignore_index = True)\n"
   ]
  },
  {
   "cell_type": "code",
   "execution_count": 29,
   "id": "2548ee46",
   "metadata": {},
   "outputs": [
    {
     "data": {
      "text/html": [
       "<div>\n",
       "<style scoped>\n",
       "    .dataframe tbody tr th:only-of-type {\n",
       "        vertical-align: middle;\n",
       "    }\n",
       "\n",
       "    .dataframe tbody tr th {\n",
       "        vertical-align: top;\n",
       "    }\n",
       "\n",
       "    .dataframe thead th {\n",
       "        text-align: right;\n",
       "    }\n",
       "</style>\n",
       "<table border=\"1\" class=\"dataframe\">\n",
       "  <thead>\n",
       "    <tr style=\"text-align: right;\">\n",
       "      <th></th>\n",
       "      <th>Classifier</th>\n",
       "      <th>Stategy</th>\n",
       "      <th>Accuracy</th>\n",
       "      <th>Precision</th>\n",
       "      <th>Recall</th>\n",
       "    </tr>\n",
       "  </thead>\n",
       "  <tbody>\n",
       "    <tr>\n",
       "      <th>0</th>\n",
       "      <td>KNN</td>\n",
       "      <td>Stategy 1</td>\n",
       "      <td>0.481586</td>\n",
       "      <td>0.484536</td>\n",
       "      <td>0.531073</td>\n",
       "    </tr>\n",
       "  </tbody>\n",
       "</table>\n",
       "</div>"
      ],
      "text/plain": [
       "  Classifier    Stategy  Accuracy  Precision    Recall\n",
       "0        KNN  Stategy 1  0.481586   0.484536  0.531073"
      ]
     },
     "execution_count": 29,
     "metadata": {},
     "output_type": "execute_result"
    }
   ],
   "source": [
    "scoreparam_df"
   ]
  },
  {
   "cell_type": "markdown",
   "id": "0ef33eff",
   "metadata": {},
   "source": [
    "#### 2) Random Forest"
   ]
  },
  {
   "cell_type": "code",
   "execution_count": 30,
   "id": "7f33da6d",
   "metadata": {},
   "outputs": [
    {
     "name": "stdout",
     "output_type": "stream",
     "text": [
      "\n",
      "\n",
      "******** confusion matrix ******************\n",
      "[[79 97]\n",
      " [83 94]]\n",
      "\n",
      "\n",
      "================== Accuracy, Precision, Recall ==================\n",
      "Accuracy: 0.49008498583569404\n",
      "Precision: 0.49214659685863876\n",
      "Recall: 0.5310734463276836\n",
      "\n",
      "\n",
      "****************** classification report ******************\n",
      "              precision    recall  f1-score   support\n",
      "\n",
      "          -1       0.49      0.45      0.47       176\n",
      "           1       0.49      0.53      0.51       177\n",
      "\n",
      "    accuracy                           0.49       353\n",
      "   macro avg       0.49      0.49      0.49       353\n",
      "weighted avg       0.49      0.49      0.49       353\n",
      "\n"
     ]
    },
    {
     "name": "stderr",
     "output_type": "stream",
     "text": [
      "C:\\Users\\kiran\\AppData\\Local\\Temp\\ipykernel_23932\\2012559531.py:7: FutureWarning: The frame.append method is deprecated and will be removed from pandas in a future version. Use pandas.concat instead.\n",
      "  scoreparam_df = scoreparam_df.append({'Classifier' : 'RF', 'Stategy' : 'Stategy 1', 'Accuracy' : acc_rf_stat1, 'Precision': pre_rf_stat1,'Recall': rec_rf_stat1},\n"
     ]
    }
   ],
   "source": [
    "y_pred = fitting_datato_rfmodel('Stategy1', X_train, y_train, X_test, y_test)\n",
    "\n",
    "acc_rf_stat1 = metrics.accuracy_score(y_test, y_pred)\n",
    "pre_rf_stat1 = metrics.precision_score(y_test, y_pred)\n",
    "rec_rf_stat1 = metrics.recall_score(y_test, y_pred)\n",
    "\n",
    "scoreparam_df = scoreparam_df.append({'Classifier' : 'RF', 'Stategy' : 'Stategy 1', 'Accuracy' : acc_rf_stat1, 'Precision': pre_rf_stat1,'Recall': rec_rf_stat1}, \n",
    "                ignore_index = True)\n"
   ]
  },
  {
   "cell_type": "markdown",
   "id": "6b4349d6",
   "metadata": {},
   "source": [
    "#### 3) Gradient Booster"
   ]
  },
  {
   "cell_type": "code",
   "execution_count": 31,
   "id": "5586068a",
   "metadata": {
    "scrolled": true
   },
   "outputs": [
    {
     "name": "stdout",
     "output_type": "stream",
     "text": [
      "\n",
      "\n",
      "******** confusion matrix ********\n",
      "[[ 75 101]\n",
      " [ 74 103]]\n",
      "\n",
      "\n",
      "================== Accuracy, Precision, Recall ==================\n",
      "Accuracy: 0.5042492917847026\n",
      "Precision: 0.5049019607843137\n",
      "Recall: 0.5819209039548022\n",
      "\n",
      "\n",
      "****************** classification report ******************\n",
      "              precision    recall  f1-score   support\n",
      "\n",
      "          -1       0.50      0.43      0.46       176\n",
      "           1       0.50      0.58      0.54       177\n",
      "\n",
      "    accuracy                           0.50       353\n",
      "   macro avg       0.50      0.50      0.50       353\n",
      "weighted avg       0.50      0.50      0.50       353\n",
      "\n"
     ]
    },
    {
     "name": "stderr",
     "output_type": "stream",
     "text": [
      "C:\\Users\\kiran\\AppData\\Local\\Temp\\ipykernel_23932\\2801576439.py:7: FutureWarning: The frame.append method is deprecated and will be removed from pandas in a future version. Use pandas.concat instead.\n",
      "  scoreparam_df = scoreparam_df.append({'Classifier' : 'GB', 'Stategy' : 'Stategy 1', 'Accuracy' : acc_gb_stat1, 'Precision': pre_gb_stat1,'Recall': rec_gb_stat1},\n"
     ]
    }
   ],
   "source": [
    "y_pred = fitting_datato_gradient_boostermodel('Stategy1', X_train, y_train, X_test, y_test)\n",
    "\n",
    "acc_gb_stat1 = metrics.accuracy_score(y_test, y_pred)\n",
    "pre_gb_stat1 = metrics.precision_score(y_test, y_pred)\n",
    "rec_gb_stat1 = metrics.recall_score(y_test, y_pred)\n",
    "\n",
    "scoreparam_df = scoreparam_df.append({'Classifier' : 'GB', 'Stategy' : 'Stategy 1', 'Accuracy' : acc_gb_stat1, 'Precision': pre_gb_stat1,'Recall': rec_gb_stat1}, \n",
    "                ignore_index = True)"
   ]
  },
  {
   "cell_type": "markdown",
   "id": "86b6419e",
   "metadata": {},
   "source": [
    "#### 4) Support Vector Machines (SVMs)"
   ]
  },
  {
   "cell_type": "code",
   "execution_count": 32,
   "id": "19c25825",
   "metadata": {},
   "outputs": [
    {
     "name": "stdout",
     "output_type": "stream",
     "text": [
      "\n",
      "\n",
      "********* confusion matrix **********\n",
      "[[ 20 156]\n",
      " [ 20 157]]\n",
      "\n",
      "\n",
      "================== Accuracy, Precision, Recall ==================\n",
      "Accuracy: 0.5014164305949008\n",
      "Precision: 0.5015974440894568\n",
      "Recall: 0.8870056497175142\n",
      "\n",
      "\n",
      "****************** classification report ******************\n",
      "              precision    recall  f1-score   support\n",
      "\n",
      "          -1       0.50      0.11      0.19       176\n",
      "           1       0.50      0.89      0.64       177\n",
      "\n",
      "    accuracy                           0.50       353\n",
      "   macro avg       0.50      0.50      0.41       353\n",
      "weighted avg       0.50      0.50      0.41       353\n",
      "\n"
     ]
    },
    {
     "name": "stderr",
     "output_type": "stream",
     "text": [
      "C:\\Users\\kiran\\AppData\\Local\\Temp\\ipykernel_23932\\2378307156.py:7: FutureWarning: The frame.append method is deprecated and will be removed from pandas in a future version. Use pandas.concat instead.\n",
      "  scoreparam_df = scoreparam_df.append({'Classifier' : 'SVM', 'Stategy' : 'Stategy 1', 'Accuracy' : acc_svm_stat1, 'Precision': pre_svm_stat1,'Recall': rec_svm_stat1},\n"
     ]
    }
   ],
   "source": [
    "y_pred = fitting_datato_svmmodel('Stategy1', X_train, y_train, X_test, y_test)\n",
    "\n",
    "acc_svm_stat1 = metrics.accuracy_score(y_test, y_pred)\n",
    "pre_svm_stat1 = metrics.precision_score(y_test, y_pred)\n",
    "rec_svm_stat1 = metrics.recall_score(y_test, y_pred)\n",
    "\n",
    "scoreparam_df = scoreparam_df.append({'Classifier' : 'SVM', 'Stategy' : 'Stategy 1', 'Accuracy' : acc_svm_stat1, 'Precision': pre_svm_stat1,'Recall': rec_svm_stat1}, \n",
    "                ignore_index = True)\n"
   ]
  },
  {
   "cell_type": "markdown",
   "id": "8a243e01",
   "metadata": {},
   "source": [
    "#### 5) XGBoost"
   ]
  },
  {
   "cell_type": "code",
   "execution_count": 33,
   "id": "8032e0d4",
   "metadata": {},
   "outputs": [
    {
     "name": "stderr",
     "output_type": "stream",
     "text": [
      "C:\\Users\\kiran\\anaconda3\\lib\\site-packages\\xgboost\\sklearn.py:1224: UserWarning: The use of label encoder in XGBClassifier is deprecated and will be removed in a future release. To remove this warning, do the following: 1) Pass option use_label_encoder=False when constructing XGBClassifier object; and 2) Encode your labels (y) as integers starting with 0, i.e. 0, 1, 2, ..., [num_class - 1].\n",
      "  warnings.warn(label_encoder_deprecation_msg, UserWarning)\n"
     ]
    },
    {
     "name": "stdout",
     "output_type": "stream",
     "text": [
      "[20:40:34] WARNING: D:\\bld\\xgboost-split_1645118015404\\work\\src\\learner.cc:1115: Starting in XGBoost 1.3.0, the default evaluation metric used with the objective 'binary:logistic' was changed from 'error' to 'logloss'. Explicitly set eval_metric if you'd like to restore the old behavior.\n",
      "\n",
      "\n",
      "******** confusion matrix *********\n",
      "[[ 76 100]\n",
      " [ 78  99]]\n",
      "\n",
      "\n",
      "================== Accuracy, Precision, Recall ==================\n",
      "Accuracy: 0.49575070821529743\n",
      "Precision: 0.49748743718592964\n",
      "Recall: 0.559322033898305\n",
      "\n",
      "\n",
      "****************** classification report ****************\n",
      "              precision    recall  f1-score   support\n",
      "\n",
      "          -1       0.49      0.43      0.46       176\n",
      "           1       0.50      0.56      0.53       177\n",
      "\n",
      "    accuracy                           0.50       353\n",
      "   macro avg       0.50      0.50      0.49       353\n",
      "weighted avg       0.50      0.50      0.49       353\n",
      "\n"
     ]
    },
    {
     "name": "stderr",
     "output_type": "stream",
     "text": [
      "C:\\Users\\kiran\\anaconda3\\lib\\site-packages\\xgboost\\data.py:262: FutureWarning: pandas.Int64Index is deprecated and will be removed from pandas in a future version. Use pandas.Index with the appropriate dtype instead.\n",
      "  elif isinstance(data.columns, (pd.Int64Index, pd.RangeIndex)):\n",
      "C:\\Users\\kiran\\AppData\\Local\\Temp\\ipykernel_23932\\3227224099.py:7: FutureWarning: The frame.append method is deprecated and will be removed from pandas in a future version. Use pandas.concat instead.\n",
      "  scoreparam_df = scoreparam_df.append({'Classifier' : 'XGBoost', 'Stategy' : 'Stategy 1', 'Accuracy' : acc_xgb_stat1, 'Precision': pre_xgb_stat1,'Recall': rec_xgb_stat1},\n"
     ]
    }
   ],
   "source": [
    "y_pred_xg = fitting_datato_xgboostmodel('Stategy1', X_train, y_train, X_test, y_test)\n",
    "\n",
    "acc_xgb_stat1 = metrics.accuracy_score(y_test, y_pred_xg)\n",
    "pre_xgb_stat1 = metrics.precision_score(y_test, y_pred_xg)\n",
    "rec_xgb_stat1 = metrics.recall_score(y_test, y_pred_xg)\n",
    "\n",
    "scoreparam_df = scoreparam_df.append({'Classifier' : 'XGBoost', 'Stategy' : 'Stategy 1', 'Accuracy' : acc_xgb_stat1, 'Precision': pre_xgb_stat1,'Recall': rec_xgb_stat1}, \n",
    "                ignore_index = True)"
   ]
  },
  {
   "cell_type": "markdown",
   "id": "192d4d68",
   "metadata": {},
   "source": [
    "### Strategy-2: \n",
    "Utilize the 50-day moving average vs the 200-day moving average."
   ]
  },
  {
   "cell_type": "code",
   "execution_count": 34,
   "id": "a2c84ac1",
   "metadata": {},
   "outputs": [
    {
     "data": {
      "text/html": [
       "<div>\n",
       "<style scoped>\n",
       "    .dataframe tbody tr th:only-of-type {\n",
       "        vertical-align: middle;\n",
       "    }\n",
       "\n",
       "    .dataframe tbody tr th {\n",
       "        vertical-align: top;\n",
       "    }\n",
       "\n",
       "    .dataframe thead th {\n",
       "        text-align: right;\n",
       "    }\n",
       "</style>\n",
       "<table border=\"1\" class=\"dataframe\">\n",
       "  <thead>\n",
       "    <tr style=\"text-align: right;\">\n",
       "      <th></th>\n",
       "      <th>Open</th>\n",
       "      <th>High</th>\n",
       "      <th>Low</th>\n",
       "      <th>Close</th>\n",
       "      <th>Adj Close</th>\n",
       "      <th>Volume</th>\n",
       "    </tr>\n",
       "    <tr>\n",
       "      <th>Date</th>\n",
       "      <th></th>\n",
       "      <th></th>\n",
       "      <th></th>\n",
       "      <th></th>\n",
       "      <th></th>\n",
       "      <th></th>\n",
       "    </tr>\n",
       "  </thead>\n",
       "  <tbody>\n",
       "    <tr>\n",
       "      <th>2015-01-02</th>\n",
       "      <td>154.216064</td>\n",
       "      <td>156.128113</td>\n",
       "      <td>153.919693</td>\n",
       "      <td>154.933075</td>\n",
       "      <td>110.782295</td>\n",
       "      <td>5779673</td>\n",
       "    </tr>\n",
       "    <tr>\n",
       "      <th>2015-01-05</th>\n",
       "      <td>154.177826</td>\n",
       "      <td>154.177826</td>\n",
       "      <td>152.189301</td>\n",
       "      <td>152.495224</td>\n",
       "      <td>109.039169</td>\n",
       "      <td>5104898</td>\n",
       "    </tr>\n",
       "    <tr>\n",
       "      <th>2015-01-06</th>\n",
       "      <td>152.648178</td>\n",
       "      <td>152.925430</td>\n",
       "      <td>148.346085</td>\n",
       "      <td>149.206497</td>\n",
       "      <td>106.687584</td>\n",
       "      <td>6429448</td>\n",
       "    </tr>\n",
       "    <tr>\n",
       "      <th>2015-01-07</th>\n",
       "      <td>150.286804</td>\n",
       "      <td>150.286804</td>\n",
       "      <td>147.256210</td>\n",
       "      <td>148.231354</td>\n",
       "      <td>105.990387</td>\n",
       "      <td>4918083</td>\n",
       "    </tr>\n",
       "    <tr>\n",
       "      <th>2015-01-08</th>\n",
       "      <td>149.369019</td>\n",
       "      <td>152.045883</td>\n",
       "      <td>148.709366</td>\n",
       "      <td>151.453156</td>\n",
       "      <td>108.294037</td>\n",
       "      <td>4431693</td>\n",
       "    </tr>\n",
       "    <tr>\n",
       "      <th>...</th>\n",
       "      <td>...</td>\n",
       "      <td>...</td>\n",
       "      <td>...</td>\n",
       "      <td>...</td>\n",
       "      <td>...</td>\n",
       "      <td>...</td>\n",
       "    </tr>\n",
       "    <tr>\n",
       "      <th>2021-12-23</th>\n",
       "      <td>130.000000</td>\n",
       "      <td>130.960007</td>\n",
       "      <td>129.520004</td>\n",
       "      <td>130.630005</td>\n",
       "      <td>125.941460</td>\n",
       "      <td>3649000</td>\n",
       "    </tr>\n",
       "    <tr>\n",
       "      <th>2021-12-27</th>\n",
       "      <td>130.630005</td>\n",
       "      <td>131.649994</td>\n",
       "      <td>129.949997</td>\n",
       "      <td>131.619995</td>\n",
       "      <td>126.895927</td>\n",
       "      <td>4293900</td>\n",
       "    </tr>\n",
       "    <tr>\n",
       "      <th>2021-12-28</th>\n",
       "      <td>131.600006</td>\n",
       "      <td>133.220001</td>\n",
       "      <td>131.589996</td>\n",
       "      <td>132.630005</td>\n",
       "      <td>127.869667</td>\n",
       "      <td>3445200</td>\n",
       "    </tr>\n",
       "    <tr>\n",
       "      <th>2021-12-29</th>\n",
       "      <td>132.399994</td>\n",
       "      <td>134.210007</td>\n",
       "      <td>132.300003</td>\n",
       "      <td>133.350006</td>\n",
       "      <td>128.563843</td>\n",
       "      <td>4239900</td>\n",
       "    </tr>\n",
       "    <tr>\n",
       "      <th>2021-12-30</th>\n",
       "      <td>133.750000</td>\n",
       "      <td>134.369995</td>\n",
       "      <td>133.330002</td>\n",
       "      <td>133.910004</td>\n",
       "      <td>129.103745</td>\n",
       "      <td>3158100</td>\n",
       "    </tr>\n",
       "  </tbody>\n",
       "</table>\n",
       "<p>1762 rows × 6 columns</p>\n",
       "</div>"
      ],
      "text/plain": [
       "                  Open        High         Low       Close   Adj Close  \\\n",
       "Date                                                                     \n",
       "2015-01-02  154.216064  156.128113  153.919693  154.933075  110.782295   \n",
       "2015-01-05  154.177826  154.177826  152.189301  152.495224  109.039169   \n",
       "2015-01-06  152.648178  152.925430  148.346085  149.206497  106.687584   \n",
       "2015-01-07  150.286804  150.286804  147.256210  148.231354  105.990387   \n",
       "2015-01-08  149.369019  152.045883  148.709366  151.453156  108.294037   \n",
       "...                ...         ...         ...         ...         ...   \n",
       "2021-12-23  130.000000  130.960007  129.520004  130.630005  125.941460   \n",
       "2021-12-27  130.630005  131.649994  129.949997  131.619995  126.895927   \n",
       "2021-12-28  131.600006  133.220001  131.589996  132.630005  127.869667   \n",
       "2021-12-29  132.399994  134.210007  132.300003  133.350006  128.563843   \n",
       "2021-12-30  133.750000  134.369995  133.330002  133.910004  129.103745   \n",
       "\n",
       "             Volume  \n",
       "Date                 \n",
       "2015-01-02  5779673  \n",
       "2015-01-05  5104898  \n",
       "2015-01-06  6429448  \n",
       "2015-01-07  4918083  \n",
       "2015-01-08  4431693  \n",
       "...             ...  \n",
       "2021-12-23  3649000  \n",
       "2021-12-27  4293900  \n",
       "2021-12-28  3445200  \n",
       "2021-12-29  4239900  \n",
       "2021-12-30  3158100  \n",
       "\n",
       "[1762 rows x 6 columns]"
      ]
     },
     "execution_count": 34,
     "metadata": {},
     "output_type": "execute_result"
    }
   ],
   "source": [
    "IBM_data"
   ]
  },
  {
   "cell_type": "code",
   "execution_count": 35,
   "id": "3ba5cb3b",
   "metadata": {},
   "outputs": [],
   "source": [
    "# Computing the rolling averages\n",
    "\n",
    "IBM_data_strategy2 = IBM_data.copy()\n",
    "\n",
    "IBM_data_strategy2['50_MV'] = IBM_data_strategy2['Close'].rolling(50).mean()\n",
    "IBM_data_strategy2['200_MV'] = IBM_data_strategy2['Close'].rolling(200).mean()\n",
    "\n",
    "IBM_data_strategy2 = IBM_data_strategy2.dropna()\n",
    "\n",
    "IBM_data_strategy2['label'] = IBM_data_strategy2.apply(lambda row:0 if row[f'50_MV'] > row[f'200_MV'] else 1, axis = 1)\n"
   ]
  },
  {
   "cell_type": "code",
   "execution_count": 36,
   "id": "36434500",
   "metadata": {},
   "outputs": [],
   "source": [
    "#50>200 ----------------------death----0\n",
    "#200>50---------------------golden-----1"
   ]
  },
  {
   "cell_type": "code",
   "execution_count": 37,
   "id": "2c2c2ca0",
   "metadata": {},
   "outputs": [
    {
     "data": {
      "text/html": [
       "<div>\n",
       "<style scoped>\n",
       "    .dataframe tbody tr th:only-of-type {\n",
       "        vertical-align: middle;\n",
       "    }\n",
       "\n",
       "    .dataframe tbody tr th {\n",
       "        vertical-align: top;\n",
       "    }\n",
       "\n",
       "    .dataframe thead th {\n",
       "        text-align: right;\n",
       "    }\n",
       "</style>\n",
       "<table border=\"1\" class=\"dataframe\">\n",
       "  <thead>\n",
       "    <tr style=\"text-align: right;\">\n",
       "      <th></th>\n",
       "      <th>Open</th>\n",
       "      <th>High</th>\n",
       "      <th>Low</th>\n",
       "      <th>Close</th>\n",
       "      <th>Adj Close</th>\n",
       "      <th>Volume</th>\n",
       "      <th>50_MV</th>\n",
       "      <th>200_MV</th>\n",
       "      <th>label</th>\n",
       "    </tr>\n",
       "    <tr>\n",
       "      <th>Date</th>\n",
       "      <th></th>\n",
       "      <th></th>\n",
       "      <th></th>\n",
       "      <th></th>\n",
       "      <th></th>\n",
       "      <th></th>\n",
       "      <th></th>\n",
       "      <th></th>\n",
       "      <th></th>\n",
       "    </tr>\n",
       "  </thead>\n",
       "  <tbody>\n",
       "    <tr>\n",
       "      <th>2015-10-16</th>\n",
       "      <td>143.833649</td>\n",
       "      <td>144.550674</td>\n",
       "      <td>142.695984</td>\n",
       "      <td>143.776291</td>\n",
       "      <td>105.175369</td>\n",
       "      <td>3643950</td>\n",
       "      <td>141.918355</td>\n",
       "      <td>152.709847</td>\n",
       "      <td>1</td>\n",
       "    </tr>\n",
       "    <tr>\n",
       "      <th>2015-10-19</th>\n",
       "      <td>143.260040</td>\n",
       "      <td>143.374756</td>\n",
       "      <td>141.854691</td>\n",
       "      <td>142.657745</td>\n",
       "      <td>104.357109</td>\n",
       "      <td>8320616</td>\n",
       "      <td>141.805544</td>\n",
       "      <td>152.648470</td>\n",
       "      <td>1</td>\n",
       "    </tr>\n",
       "    <tr>\n",
       "      <th>2015-10-20</th>\n",
       "      <td>136.223709</td>\n",
       "      <td>136.596558</td>\n",
       "      <td>134.101334</td>\n",
       "      <td>134.455063</td>\n",
       "      <td>98.356697</td>\n",
       "      <td>16762778</td>\n",
       "      <td>141.497514</td>\n",
       "      <td>152.558270</td>\n",
       "      <td>1</td>\n",
       "    </tr>\n",
       "    <tr>\n",
       "      <th>2015-10-21</th>\n",
       "      <td>134.082214</td>\n",
       "      <td>136.386230</td>\n",
       "      <td>133.173996</td>\n",
       "      <td>134.722748</td>\n",
       "      <td>98.552498</td>\n",
       "      <td>7312168</td>\n",
       "      <td>141.218546</td>\n",
       "      <td>152.485851</td>\n",
       "      <td>1</td>\n",
       "    </tr>\n",
       "    <tr>\n",
       "      <th>2015-10-22</th>\n",
       "      <td>135.506699</td>\n",
       "      <td>138.690247</td>\n",
       "      <td>135.391968</td>\n",
       "      <td>137.753342</td>\n",
       "      <td>100.769470</td>\n",
       "      <td>5840027</td>\n",
       "      <td>140.987762</td>\n",
       "      <td>152.433461</td>\n",
       "      <td>1</td>\n",
       "    </tr>\n",
       "    <tr>\n",
       "      <th>...</th>\n",
       "      <td>...</td>\n",
       "      <td>...</td>\n",
       "      <td>...</td>\n",
       "      <td>...</td>\n",
       "      <td>...</td>\n",
       "      <td>...</td>\n",
       "      <td>...</td>\n",
       "      <td>...</td>\n",
       "      <td>...</td>\n",
       "    </tr>\n",
       "    <tr>\n",
       "      <th>2021-12-23</th>\n",
       "      <td>130.000000</td>\n",
       "      <td>130.960007</td>\n",
       "      <td>129.520004</td>\n",
       "      <td>130.630005</td>\n",
       "      <td>125.941460</td>\n",
       "      <td>3649000</td>\n",
       "      <td>122.731735</td>\n",
       "      <td>131.443115</td>\n",
       "      <td>1</td>\n",
       "    </tr>\n",
       "    <tr>\n",
       "      <th>2021-12-27</th>\n",
       "      <td>130.630005</td>\n",
       "      <td>131.649994</td>\n",
       "      <td>129.949997</td>\n",
       "      <td>131.619995</td>\n",
       "      <td>126.895927</td>\n",
       "      <td>4293900</td>\n",
       "      <td>122.622452</td>\n",
       "      <td>131.491225</td>\n",
       "      <td>1</td>\n",
       "    </tr>\n",
       "    <tr>\n",
       "      <th>2021-12-28</th>\n",
       "      <td>131.600006</td>\n",
       "      <td>133.220001</td>\n",
       "      <td>131.589996</td>\n",
       "      <td>132.630005</td>\n",
       "      <td>127.869667</td>\n",
       "      <td>3445200</td>\n",
       "      <td>122.510043</td>\n",
       "      <td>131.539748</td>\n",
       "      <td>1</td>\n",
       "    </tr>\n",
       "    <tr>\n",
       "      <th>2021-12-29</th>\n",
       "      <td>132.399994</td>\n",
       "      <td>134.210007</td>\n",
       "      <td>132.300003</td>\n",
       "      <td>133.350006</td>\n",
       "      <td>128.563843</td>\n",
       "      <td>4239900</td>\n",
       "      <td>122.455819</td>\n",
       "      <td>131.593496</td>\n",
       "      <td>1</td>\n",
       "    </tr>\n",
       "    <tr>\n",
       "      <th>2021-12-30</th>\n",
       "      <td>133.750000</td>\n",
       "      <td>134.369995</td>\n",
       "      <td>133.330002</td>\n",
       "      <td>133.910004</td>\n",
       "      <td>129.103745</td>\n",
       "      <td>3158100</td>\n",
       "      <td>122.419296</td>\n",
       "      <td>131.646268</td>\n",
       "      <td>1</td>\n",
       "    </tr>\n",
       "  </tbody>\n",
       "</table>\n",
       "<p>1563 rows × 9 columns</p>\n",
       "</div>"
      ],
      "text/plain": [
       "                  Open        High         Low       Close   Adj Close  \\\n",
       "Date                                                                     \n",
       "2015-10-16  143.833649  144.550674  142.695984  143.776291  105.175369   \n",
       "2015-10-19  143.260040  143.374756  141.854691  142.657745  104.357109   \n",
       "2015-10-20  136.223709  136.596558  134.101334  134.455063   98.356697   \n",
       "2015-10-21  134.082214  136.386230  133.173996  134.722748   98.552498   \n",
       "2015-10-22  135.506699  138.690247  135.391968  137.753342  100.769470   \n",
       "...                ...         ...         ...         ...         ...   \n",
       "2021-12-23  130.000000  130.960007  129.520004  130.630005  125.941460   \n",
       "2021-12-27  130.630005  131.649994  129.949997  131.619995  126.895927   \n",
       "2021-12-28  131.600006  133.220001  131.589996  132.630005  127.869667   \n",
       "2021-12-29  132.399994  134.210007  132.300003  133.350006  128.563843   \n",
       "2021-12-30  133.750000  134.369995  133.330002  133.910004  129.103745   \n",
       "\n",
       "              Volume       50_MV      200_MV  label  \n",
       "Date                                                 \n",
       "2015-10-16   3643950  141.918355  152.709847      1  \n",
       "2015-10-19   8320616  141.805544  152.648470      1  \n",
       "2015-10-20  16762778  141.497514  152.558270      1  \n",
       "2015-10-21   7312168  141.218546  152.485851      1  \n",
       "2015-10-22   5840027  140.987762  152.433461      1  \n",
       "...              ...         ...         ...    ...  \n",
       "2021-12-23   3649000  122.731735  131.443115      1  \n",
       "2021-12-27   4293900  122.622452  131.491225      1  \n",
       "2021-12-28   3445200  122.510043  131.539748      1  \n",
       "2021-12-29   4239900  122.455819  131.593496      1  \n",
       "2021-12-30   3158100  122.419296  131.646268      1  \n",
       "\n",
       "[1563 rows x 9 columns]"
      ]
     },
     "execution_count": 37,
     "metadata": {},
     "output_type": "execute_result"
    }
   ],
   "source": [
    "IBM_data_strategy2"
   ]
  },
  {
   "cell_type": "markdown",
   "id": "cd6566ab",
   "metadata": {},
   "source": [
    "### Plot"
   ]
  },
  {
   "cell_type": "code",
   "execution_count": 38,
   "id": "a2eb0414",
   "metadata": {},
   "outputs": [
    {
     "data": {
      "text/plain": [
       "<matplotlib.legend.Legend at 0x17b94ca9a00>"
      ]
     },
     "execution_count": 38,
     "metadata": {},
     "output_type": "execute_result"
    },
    {
     "data": {
      "image/png": "[encoded data removed]",
      "text/plain": [
       "<Figure size 1080x432 with 1 Axes>"
      ]
     },
     "metadata": {
      "needs_background": "light"
     },
     "output_type": "display_data"
    }
   ],
   "source": [
    "IBM_data_strategy2['Close'].plot()\n",
    "IBM_data_strategy2['50_MV'].plot(figsize= (15, 6))\n",
    "IBM_data_strategy2['200_MV'].plot(figsize= (15, 6))\n",
    "plt.legend()"
   ]
  },
  {
   "cell_type": "code",
   "execution_count": 39,
   "id": "c35824c2",
   "metadata": {},
   "outputs": [
    {
     "data": {
      "text/plain": [
       "<matplotlib.legend.Legend at 0x17b94de7c40>"
      ]
     },
     "execution_count": 39,
     "metadata": {},
     "output_type": "execute_result"
    },
    {
     "data": {
      "image/png": "[encoded data removed]",
      "text/plain": [
       "<Figure size 1080x432 with 1 Axes>"
      ]
     },
     "metadata": {
      "needs_background": "light"
     },
     "output_type": "display_data"
    }
   ],
   "source": [
    "IBM_data_strategy2['Adj Close'].plot()\n",
    "IBM_data_strategy2['50_MV'].plot(figsize= (15, 6))\n",
    "IBM_data_strategy2['200_MV'].plot(figsize= (15, 6))\n",
    "plt.legend()"
   ]
  },
  {
   "cell_type": "code",
   "execution_count": 40,
   "id": "6f62b1ba",
   "metadata": {},
   "outputs": [
    {
     "data": {
      "text/html": [
       "<div>\n",
       "<style scoped>\n",
       "    .dataframe tbody tr th:only-of-type {\n",
       "        vertical-align: middle;\n",
       "    }\n",
       "\n",
       "    .dataframe tbody tr th {\n",
       "        vertical-align: top;\n",
       "    }\n",
       "\n",
       "    .dataframe thead th {\n",
       "        text-align: right;\n",
       "    }\n",
       "</style>\n",
       "<table border=\"1\" class=\"dataframe\">\n",
       "  <thead>\n",
       "    <tr style=\"text-align: right;\">\n",
       "      <th></th>\n",
       "      <th>Open</th>\n",
       "      <th>High</th>\n",
       "      <th>Low</th>\n",
       "      <th>Close</th>\n",
       "      <th>Adj Close</th>\n",
       "      <th>Volume</th>\n",
       "      <th>50_MV</th>\n",
       "      <th>200_MV</th>\n",
       "      <th>label</th>\n",
       "    </tr>\n",
       "    <tr>\n",
       "      <th>Date</th>\n",
       "      <th></th>\n",
       "      <th></th>\n",
       "      <th></th>\n",
       "      <th></th>\n",
       "      <th></th>\n",
       "      <th></th>\n",
       "      <th></th>\n",
       "      <th></th>\n",
       "      <th></th>\n",
       "    </tr>\n",
       "  </thead>\n",
       "  <tbody>\n",
       "    <tr>\n",
       "      <th>2015-10-16</th>\n",
       "      <td>143.833649</td>\n",
       "      <td>144.550674</td>\n",
       "      <td>142.695984</td>\n",
       "      <td>143.776291</td>\n",
       "      <td>105.175369</td>\n",
       "      <td>3643950</td>\n",
       "      <td>141.918355</td>\n",
       "      <td>152.709847</td>\n",
       "      <td>1</td>\n",
       "    </tr>\n",
       "    <tr>\n",
       "      <th>2015-10-19</th>\n",
       "      <td>143.260040</td>\n",
       "      <td>143.374756</td>\n",
       "      <td>141.854691</td>\n",
       "      <td>142.657745</td>\n",
       "      <td>104.357109</td>\n",
       "      <td>8320616</td>\n",
       "      <td>141.805544</td>\n",
       "      <td>152.648470</td>\n",
       "      <td>1</td>\n",
       "    </tr>\n",
       "    <tr>\n",
       "      <th>2015-10-20</th>\n",
       "      <td>136.223709</td>\n",
       "      <td>136.596558</td>\n",
       "      <td>134.101334</td>\n",
       "      <td>134.455063</td>\n",
       "      <td>98.356697</td>\n",
       "      <td>16762778</td>\n",
       "      <td>141.497514</td>\n",
       "      <td>152.558270</td>\n",
       "      <td>1</td>\n",
       "    </tr>\n",
       "    <tr>\n",
       "      <th>2015-10-21</th>\n",
       "      <td>134.082214</td>\n",
       "      <td>136.386230</td>\n",
       "      <td>133.173996</td>\n",
       "      <td>134.722748</td>\n",
       "      <td>98.552498</td>\n",
       "      <td>7312168</td>\n",
       "      <td>141.218546</td>\n",
       "      <td>152.485851</td>\n",
       "      <td>1</td>\n",
       "    </tr>\n",
       "    <tr>\n",
       "      <th>2015-10-22</th>\n",
       "      <td>135.506699</td>\n",
       "      <td>138.690247</td>\n",
       "      <td>135.391968</td>\n",
       "      <td>137.753342</td>\n",
       "      <td>100.769470</td>\n",
       "      <td>5840027</td>\n",
       "      <td>140.987762</td>\n",
       "      <td>152.433461</td>\n",
       "      <td>1</td>\n",
       "    </tr>\n",
       "    <tr>\n",
       "      <th>...</th>\n",
       "      <td>...</td>\n",
       "      <td>...</td>\n",
       "      <td>...</td>\n",
       "      <td>...</td>\n",
       "      <td>...</td>\n",
       "      <td>...</td>\n",
       "      <td>...</td>\n",
       "      <td>...</td>\n",
       "      <td>...</td>\n",
       "    </tr>\n",
       "    <tr>\n",
       "      <th>2021-12-23</th>\n",
       "      <td>130.000000</td>\n",
       "      <td>130.960007</td>\n",
       "      <td>129.520004</td>\n",
       "      <td>130.630005</td>\n",
       "      <td>125.941460</td>\n",
       "      <td>3649000</td>\n",
       "      <td>122.731735</td>\n",
       "      <td>131.443115</td>\n",
       "      <td>1</td>\n",
       "    </tr>\n",
       "    <tr>\n",
       "      <th>2021-12-27</th>\n",
       "      <td>130.630005</td>\n",
       "      <td>131.649994</td>\n",
       "      <td>129.949997</td>\n",
       "      <td>131.619995</td>\n",
       "      <td>126.895927</td>\n",
       "      <td>4293900</td>\n",
       "      <td>122.622452</td>\n",
       "      <td>131.491225</td>\n",
       "      <td>1</td>\n",
       "    </tr>\n",
       "    <tr>\n",
       "      <th>2021-12-28</th>\n",
       "      <td>131.600006</td>\n",
       "      <td>133.220001</td>\n",
       "      <td>131.589996</td>\n",
       "      <td>132.630005</td>\n",
       "      <td>127.869667</td>\n",
       "      <td>3445200</td>\n",
       "      <td>122.510043</td>\n",
       "      <td>131.539748</td>\n",
       "      <td>1</td>\n",
       "    </tr>\n",
       "    <tr>\n",
       "      <th>2021-12-29</th>\n",
       "      <td>132.399994</td>\n",
       "      <td>134.210007</td>\n",
       "      <td>132.300003</td>\n",
       "      <td>133.350006</td>\n",
       "      <td>128.563843</td>\n",
       "      <td>4239900</td>\n",
       "      <td>122.455819</td>\n",
       "      <td>131.593496</td>\n",
       "      <td>1</td>\n",
       "    </tr>\n",
       "    <tr>\n",
       "      <th>2021-12-30</th>\n",
       "      <td>133.750000</td>\n",
       "      <td>134.369995</td>\n",
       "      <td>133.330002</td>\n",
       "      <td>133.910004</td>\n",
       "      <td>129.103745</td>\n",
       "      <td>3158100</td>\n",
       "      <td>122.419296</td>\n",
       "      <td>131.646268</td>\n",
       "      <td>1</td>\n",
       "    </tr>\n",
       "  </tbody>\n",
       "</table>\n",
       "<p>1563 rows × 9 columns</p>\n",
       "</div>"
      ],
      "text/plain": [
       "                  Open        High         Low       Close   Adj Close  \\\n",
       "Date                                                                     \n",
       "2015-10-16  143.833649  144.550674  142.695984  143.776291  105.175369   \n",
       "2015-10-19  143.260040  143.374756  141.854691  142.657745  104.357109   \n",
       "2015-10-20  136.223709  136.596558  134.101334  134.455063   98.356697   \n",
       "2015-10-21  134.082214  136.386230  133.173996  134.722748   98.552498   \n",
       "2015-10-22  135.506699  138.690247  135.391968  137.753342  100.769470   \n",
       "...                ...         ...         ...         ...         ...   \n",
       "2021-12-23  130.000000  130.960007  129.520004  130.630005  125.941460   \n",
       "2021-12-27  130.630005  131.649994  129.949997  131.619995  126.895927   \n",
       "2021-12-28  131.600006  133.220001  131.589996  132.630005  127.869667   \n",
       "2021-12-29  132.399994  134.210007  132.300003  133.350006  128.563843   \n",
       "2021-12-30  133.750000  134.369995  133.330002  133.910004  129.103745   \n",
       "\n",
       "              Volume       50_MV      200_MV  label  \n",
       "Date                                                 \n",
       "2015-10-16   3643950  141.918355  152.709847      1  \n",
       "2015-10-19   8320616  141.805544  152.648470      1  \n",
       "2015-10-20  16762778  141.497514  152.558270      1  \n",
       "2015-10-21   7312168  141.218546  152.485851      1  \n",
       "2015-10-22   5840027  140.987762  152.433461      1  \n",
       "...              ...         ...         ...    ...  \n",
       "2021-12-23   3649000  122.731735  131.443115      1  \n",
       "2021-12-27   4293900  122.622452  131.491225      1  \n",
       "2021-12-28   3445200  122.510043  131.539748      1  \n",
       "2021-12-29   4239900  122.455819  131.593496      1  \n",
       "2021-12-30   3158100  122.419296  131.646268      1  \n",
       "\n",
       "[1563 rows x 9 columns]"
      ]
     },
     "execution_count": 40,
     "metadata": {},
     "output_type": "execute_result"
    }
   ],
   "source": [
    "IBM_data_strategy2"
   ]
  },
  {
   "cell_type": "code",
   "execution_count": 41,
   "id": "eedd3238",
   "metadata": {},
   "outputs": [
    {
     "data": {
      "text/plain": [
       "(1563, 9)"
      ]
     },
     "execution_count": 41,
     "metadata": {},
     "output_type": "execute_result"
    }
   ],
   "source": [
    "IBM_data_strategy2.shape\n"
   ]
  },
  {
   "cell_type": "code",
   "execution_count": 42,
   "id": "b7243028",
   "metadata": {},
   "outputs": [
    {
     "name": "stdout",
     "output_type": "stream",
     "text": [
      "<class 'pandas.core.frame.DataFrame'>\n",
      "DatetimeIndex: 1563 entries, 2015-10-16 to 2021-12-30\n",
      "Data columns (total 9 columns):\n",
      " #   Column     Non-Null Count  Dtype  \n",
      "---  ------     --------------  -----  \n",
      " 0   Open       1563 non-null   float64\n",
      " 1   High       1563 non-null   float64\n",
      " 2   Low        1563 non-null   float64\n",
      " 3   Close      1563 non-null   float64\n",
      " 4   Adj Close  1563 non-null   float64\n",
      " 5   Volume     1563 non-null   int64  \n",
      " 6   50_MV      1563 non-null   float64\n",
      " 7   200_MV     1563 non-null   float64\n",
      " 8   label      1563 non-null   int64  \n",
      "dtypes: float64(7), int64(2)\n",
      "memory usage: 122.1 KB\n"
     ]
    }
   ],
   "source": [
    "IBM_data_strategy2.info()"
   ]
  },
  {
   "cell_type": "markdown",
   "id": "d4d780f5",
   "metadata": {},
   "source": [
    "### Dividing the dataset in train (80%) and test (20%)"
   ]
  },
  {
   "cell_type": "code",
   "execution_count": 43,
   "id": "1aa7394f",
   "metadata": {},
   "outputs": [],
   "source": [
    "# Dividing the dataset in train (80%) and test (20%)\n",
    "label_stat2 = IBM_data_strategy2['label']\n",
    "features_col_stat2 = IBM_data_strategy2.drop(['label'], axis = 1)\n",
    "\n",
    "X_train_stat2, X_test_stat2, y_train_stat2, y_test_stat2 = train_test_split(features_col_stat2, label_stat2, test_size = 0.2, random_state = 40)\n"
   ]
  },
  {
   "cell_type": "markdown",
   "id": "a24172f7",
   "metadata": {},
   "source": [
    "#### 1) KNN"
   ]
  },
  {
   "cell_type": "code",
   "execution_count": 44,
   "id": "17d141ab",
   "metadata": {},
   "outputs": [
    {
     "name": "stdout",
     "output_type": "stream",
     "text": [
      "\n",
      "\n",
      "*****confusion matrix *****\n",
      "[[85 63]\n",
      " [86 79]]\n",
      "\n",
      "\n",
      "================== Accuracy, Precision, Recall ==================\n",
      "Accuracy: 0.5239616613418531\n",
      "Precision: 0.5563380281690141\n",
      "Recall: 0.47878787878787876\n",
      "\n",
      "\n",
      "***************** classification report ****************\n",
      "              precision    recall  f1-score   support\n",
      "\n",
      "           0       0.50      0.57      0.53       148\n",
      "           1       0.56      0.48      0.51       165\n",
      "\n",
      "    accuracy                           0.52       313\n",
      "   macro avg       0.53      0.53      0.52       313\n",
      "weighted avg       0.53      0.52      0.52       313\n",
      "\n"
     ]
    },
    {
     "name": "stderr",
     "output_type": "stream",
     "text": [
      "C:\\Users\\kiran\\AppData\\Local\\Temp\\ipykernel_23932\\995231565.py:7: FutureWarning: The frame.append method is deprecated and will be removed from pandas in a future version. Use pandas.concat instead.\n",
      "  scoreparam_df = scoreparam_df.append({'Classifier' : 'KNN', 'Stategy' : 'Stategy 2', 'Accuracy' : acc_knn_stat2, 'Precision': pre_knn_stat2,'Recall': rec_knn_stat2},\n"
     ]
    }
   ],
   "source": [
    "y_pred = fitting_datato_knnmodel('Stategy2', X_train_stat2, y_train_stat2, X_test_stat2, y_test_stat2)\n",
    "\n",
    "acc_knn_stat2 = metrics.accuracy_score(y_test_stat2, y_pred)\n",
    "pre_knn_stat2 = metrics.precision_score(y_test_stat2, y_pred)\n",
    "rec_knn_stat2 = metrics.recall_score(y_test_stat2, y_pred)\n",
    "\n",
    "scoreparam_df = scoreparam_df.append({'Classifier' : 'KNN', 'Stategy' : 'Stategy 2', 'Accuracy' : acc_knn_stat2, 'Precision': pre_knn_stat2,'Recall': rec_knn_stat2}, \n",
    "                ignore_index = True)"
   ]
  },
  {
   "cell_type": "markdown",
   "id": "6fed3bda",
   "metadata": {},
   "source": [
    "#### 2) Random forest"
   ]
  },
  {
   "cell_type": "code",
   "execution_count": 45,
   "id": "3b6353bf",
   "metadata": {},
   "outputs": [
    {
     "name": "stdout",
     "output_type": "stream",
     "text": [
      "\n",
      "\n",
      "******** confusion matrix ******************\n",
      "[[147   1]\n",
      " [  0 165]]\n",
      "\n",
      "\n",
      "================== Accuracy, Precision, Recall ==================\n",
      "Accuracy: 0.9968051118210862\n",
      "Precision: 0.9939759036144579\n",
      "Recall: 1.0\n",
      "\n",
      "\n",
      "****************** classification report ******************\n",
      "              precision    recall  f1-score   support\n",
      "\n",
      "           0       1.00      0.99      1.00       148\n",
      "           1       0.99      1.00      1.00       165\n",
      "\n",
      "    accuracy                           1.00       313\n",
      "   macro avg       1.00      1.00      1.00       313\n",
      "weighted avg       1.00      1.00      1.00       313\n",
      "\n"
     ]
    },
    {
     "name": "stderr",
     "output_type": "stream",
     "text": [
      "C:\\Users\\kiran\\AppData\\Local\\Temp\\ipykernel_23932\\3261403027.py:7: FutureWarning: The frame.append method is deprecated and will be removed from pandas in a future version. Use pandas.concat instead.\n",
      "  scoreparam_df = scoreparam_df.append({'Classifier' : 'RF', 'Stategy' : 'Stategy 2', 'Accuracy' : acc_rf_stat2, 'Precision': pre_rf_stat2,'Recall': rec_rf_stat2},\n"
     ]
    }
   ],
   "source": [
    "y_pred = fitting_datato_rfmodel('Stategy2', X_train_stat2, y_train_stat2, X_test_stat2, y_test_stat2)\n",
    "\n",
    "acc_rf_stat2 = metrics.accuracy_score(y_test_stat2, y_pred)\n",
    "pre_rf_stat2 = metrics.precision_score(y_test_stat2, y_pred)\n",
    "rec_rf_stat2 = metrics.recall_score(y_test_stat2, y_pred)\n",
    "\n",
    "scoreparam_df = scoreparam_df.append({'Classifier' : 'RF', 'Stategy' : 'Stategy 2', 'Accuracy' : acc_rf_stat2, 'Precision': pre_rf_stat2,'Recall': rec_rf_stat2}, \n",
    "                ignore_index = True)"
   ]
  },
  {
   "cell_type": "markdown",
   "id": "71d23fd4",
   "metadata": {},
   "source": [
    "#### 3) Gradient Booster"
   ]
  },
  {
   "cell_type": "code",
   "execution_count": 46,
   "id": "613c5023",
   "metadata": {},
   "outputs": [
    {
     "name": "stdout",
     "output_type": "stream",
     "text": [
      "\n",
      "\n",
      "******** confusion matrix ********\n",
      "[[148   0]\n",
      " [  0 165]]\n",
      "\n",
      "\n",
      "================== Accuracy, Precision, Recall ==================\n",
      "Accuracy: 1.0\n",
      "Precision: 1.0\n",
      "Recall: 1.0\n",
      "\n",
      "\n",
      "****************** classification report ******************\n",
      "              precision    recall  f1-score   support\n",
      "\n",
      "           0       1.00      1.00      1.00       148\n",
      "           1       1.00      1.00      1.00       165\n",
      "\n",
      "    accuracy                           1.00       313\n",
      "   macro avg       1.00      1.00      1.00       313\n",
      "weighted avg       1.00      1.00      1.00       313\n",
      "\n"
     ]
    },
    {
     "name": "stderr",
     "output_type": "stream",
     "text": [
      "C:\\Users\\kiran\\AppData\\Local\\Temp\\ipykernel_23932\\2223237497.py:7: FutureWarning: The frame.append method is deprecated and will be removed from pandas in a future version. Use pandas.concat instead.\n",
      "  scoreparam_df = scoreparam_df.append({'Classifier' : 'GB', 'Stategy' : 'Stategy 2', 'Accuracy' : acc_gb_stat2, 'Precision': pre_gb_stat2,'Recall': rec_gb_stat2},\n"
     ]
    }
   ],
   "source": [
    "y_pred = fitting_datato_gradient_boostermodel('Stategy2', X_train_stat2, y_train_stat2, X_test_stat2, y_test_stat2)\n",
    "\n",
    "acc_gb_stat2 = metrics.accuracy_score(y_test_stat2, y_pred)\n",
    "pre_gb_stat2 = metrics.precision_score(y_test_stat2, y_pred)\n",
    "rec_gb_stat2 = metrics.recall_score(y_test_stat2, y_pred)\n",
    "\n",
    "scoreparam_df = scoreparam_df.append({'Classifier' : 'GB', 'Stategy' : 'Stategy 2', 'Accuracy' : acc_gb_stat2, 'Precision': pre_gb_stat2,'Recall': rec_gb_stat2}, \n",
    "                ignore_index = True)"
   ]
  },
  {
   "cell_type": "markdown",
   "id": "c650bea9",
   "metadata": {},
   "source": [
    "#### 4) Support Vector Machines (SVMs)"
   ]
  },
  {
   "cell_type": "code",
   "execution_count": 47,
   "id": "5c1a6deb",
   "metadata": {},
   "outputs": [],
   "source": [
    "# from sklearn.pipeline import make_pipeline\n",
    "# from sklearn.preprocessing import StandardScaler\n",
    "# from sklearn.svm import SVC\n",
    "# from sklearn.svm import LinearSVC\n",
    "\n",
    "# Define model\n",
    "# svm = LinearSVC(random_state=42)\n",
    "# model = BaggingClassifier(base_estimator=svm, n_estimators=31, random_state=314)\n",
    "# clf = make_pipeline(StandardScaler(), SVC())\n",
    "# clf.fit(X_train_stat2, y_train_stat2)\n",
    "# clf_preds=clf.predict(X_test_stat2)\n",
    "# print('Accuracy : {}'.format(accuracy_score(X_test_stat2, clf_preds)))"
   ]
  },
  {
   "cell_type": "code",
   "execution_count": 59,
   "id": "8116f936",
   "metadata": {},
   "outputs": [
    {
     "name": "stdout",
     "output_type": "stream",
     "text": [
      "\n",
      "\n",
      "********* confusion matrix **********\n",
      "[[ 79  69]\n",
      " [ 63 102]]\n",
      "\n",
      "\n",
      "================== Accuracy, Precision, Recall ==================\n",
      "Accuracy: 0.5782747603833865\n",
      "Precision: 0.5964912280701754\n",
      "Recall: 0.6181818181818182\n",
      "\n",
      "\n",
      "****************** classification report ******************\n",
      "              precision    recall  f1-score   support\n",
      "\n",
      "           0       0.56      0.53      0.54       148\n",
      "           1       0.60      0.62      0.61       165\n",
      "\n",
      "    accuracy                           0.58       313\n",
      "   macro avg       0.58      0.58      0.58       313\n",
      "weighted avg       0.58      0.58      0.58       313\n",
      "\n"
     ]
    },
    {
     "name": "stderr",
     "output_type": "stream",
     "text": [
      "C:\\Users\\kiran\\AppData\\Local\\Temp\\ipykernel_23932\\2879316748.py:6: FutureWarning: The frame.append method is deprecated and will be removed from pandas in a future version. Use pandas.concat instead.\n",
      "  scoreparam_df = scoreparam_df.append({'Classifier' : 'SVM', 'Stategy' : 'Stategy 2', 'Accuracy' : acc_svm_stat2, 'Precision': pre_svm_stat2,'Recall': rec_svm_stat2},\n"
     ]
    }
   ],
   "source": [
    "y_pred = fitting_datato_svmmodel('Stategy2', X_train_stat2, y_train_stat2, X_test_stat2, y_test_stat2)\n",
    "acc_svm_stat2 = metrics.accuracy_score(y_test_stat2, y_pred)\n",
    "pre_svm_stat2 = metrics.precision_score(y_test_stat2, y_pred)\n",
    "rec_svm_stat2 = metrics.recall_score(y_test_stat2, y_pred)\n",
    "\n",
    "scoreparam_df = scoreparam_df.append({'Classifier' : 'SVM', 'Stategy' : 'Stategy 2', 'Accuracy' : acc_svm_stat2, 'Precision': pre_svm_stat2,'Recall': rec_svm_stat2}, \n",
    "                ignore_index = True)"
   ]
  },
  {
   "cell_type": "markdown",
   "id": "f6097ae5",
   "metadata": {},
   "source": [
    "#### 5) XGBoost"
   ]
  },
  {
   "cell_type": "code",
   "execution_count": 49,
   "id": "36dab171",
   "metadata": {},
   "outputs": [
    {
     "name": "stdout",
     "output_type": "stream",
     "text": [
      "[20:40:36] WARNING: D:\\bld\\xgboost-split_1645118015404\\work\\src\\learner.cc:1115: Starting in XGBoost 1.3.0, the default evaluation metric used with the objective 'binary:logistic' was changed from 'error' to 'logloss'. Explicitly set eval_metric if you'd like to restore the old behavior.\n",
      "\n",
      "\n",
      "******** confusion matrix *********\n",
      "[[148   0]\n",
      " [  0 165]]\n",
      "\n",
      "\n",
      "================== Accuracy, Precision, Recall ==================\n",
      "Accuracy: 1.0\n",
      "Precision: 1.0\n",
      "Recall: 1.0\n",
      "\n",
      "\n",
      "****************** classification report ****************\n",
      "              precision    recall  f1-score   support\n",
      "\n",
      "           0       1.00      1.00      1.00       148\n",
      "           1       1.00      1.00      1.00       165\n",
      "\n",
      "    accuracy                           1.00       313\n",
      "   macro avg       1.00      1.00      1.00       313\n",
      "weighted avg       1.00      1.00      1.00       313\n",
      "\n"
     ]
    },
    {
     "name": "stderr",
     "output_type": "stream",
     "text": [
      "C:\\Users\\kiran\\anaconda3\\lib\\site-packages\\xgboost\\sklearn.py:1224: UserWarning: The use of label encoder in XGBClassifier is deprecated and will be removed in a future release. To remove this warning, do the following: 1) Pass option use_label_encoder=False when constructing XGBClassifier object; and 2) Encode your labels (y) as integers starting with 0, i.e. 0, 1, 2, ..., [num_class - 1].\n",
      "  warnings.warn(label_encoder_deprecation_msg, UserWarning)\n",
      "C:\\Users\\kiran\\anaconda3\\lib\\site-packages\\xgboost\\data.py:262: FutureWarning: pandas.Int64Index is deprecated and will be removed from pandas in a future version. Use pandas.Index with the appropriate dtype instead.\n",
      "  elif isinstance(data.columns, (pd.Int64Index, pd.RangeIndex)):\n",
      "C:\\Users\\kiran\\AppData\\Local\\Temp\\ipykernel_23932\\2120560940.py:7: FutureWarning: The frame.append method is deprecated and will be removed from pandas in a future version. Use pandas.concat instead.\n",
      "  scoreparam_df = scoreparam_df.append({'Classifier' : 'XGBoost', 'Stategy' : 'Stategy 2', 'Accuracy' : acc_xgb_stat2, 'Precision': pre_xgb_stat2,'Recall': rec_xgb_stat2},\n"
     ]
    }
   ],
   "source": [
    "y_pred = fitting_datato_xgboostmodel('Stategy2', X_train_stat2, y_train_stat2, X_test_stat2, y_test_stat2)\n",
    "\n",
    "acc_xgb_stat2 = metrics.accuracy_score(y_test_stat2, y_pred)\n",
    "pre_xgb_stat2 = metrics.precision_score(y_test_stat2, y_pred)\n",
    "rec_xgb_stat2 = metrics.recall_score(y_test_stat2, y_pred)\n",
    "\n",
    "scoreparam_df = scoreparam_df.append({'Classifier' : 'XGBoost', 'Stategy' : 'Stategy 2', 'Accuracy' : acc_xgb_stat2, 'Precision': pre_xgb_stat2,'Recall': rec_xgb_stat2}, \n",
    "                ignore_index = True)"
   ]
  },
  {
   "cell_type": "markdown",
   "id": "726f3dc0",
   "metadata": {},
   "source": [
    "### Hypertuning some classifiers"
   ]
  },
  {
   "cell_type": "markdown",
   "id": "5b6d1001",
   "metadata": {},
   "source": [
    "### 1) KNN"
   ]
  },
  {
   "cell_type": "code",
   "execution_count": 50,
   "id": "bcb08a17",
   "metadata": {},
   "outputs": [],
   "source": [
    "def param_tuned_knn(X_train_stat2, y_train_stat2, X_test_stat2, y_test_stat2):\n",
    "\n",
    "    # use the best hyperparameters\n",
    "    knn = KNeighborsClassifier(n_neighbors = 17,leaf_size = 10, weights = 'distance',algorithm = 'brute',metric = 'euclidean')\n",
    "    \n",
    "    # fit the model with data\n",
    "    knn.fit(X_train_stat2, y_train_stat2)\n",
    "\n",
    "    # Predict the Xtest data with knn model \n",
    "    y_pred = knn.predict(X_test_stat2)\n",
    "\n",
    "    print(\"\\n\\n===== confusion matrix =====\")\n",
    "    cnf_matrix = metrics.confusion_matrix(y_test_stat2, y_pred)\n",
    "    print(cnf_matrix)\n",
    "   \n",
    "    model_accuracy_precision_recall(y_test_stat2, y_pred)\n",
    "    print(\"\\n\\n=================== classification report ===================\")\n",
    "    print(classification_report(y_test_stat2, y_pred))\n",
    "    \n",
    "    return y_pred\n",
    "    "
   ]
  },
  {
   "cell_type": "code",
   "execution_count": 51,
   "id": "ecfba47a",
   "metadata": {},
   "outputs": [],
   "source": [
    "def param_tuned_knn_1(X_train_stat2, y_train_stat2, X_test_stat2, y_test_stat2):\n",
    "\n",
    "    # use the best hyperparameters\n",
    "    knn1 = KNeighborsClassifier(n_neighbors = 100, leaf_size = 10, weights = 'distance',algorithm = 'brute',metric = 'euclidean')\n",
    "    \n",
    "    # fit the model with data\n",
    "    knn1.fit(X_train_stat2, y_train_stat2)\n",
    "\n",
    "    # Predict the Xtest data with knn model \n",
    "    y_pred = knn1.predict(X_test_stat2)\n",
    "\n",
    "    print(\"\\n\\n===== confusion matrix =====\")\n",
    "    cnf_matrix = metrics.confusion_matrix(y_test_stat2, y_pred)\n",
    "    print(cnf_matrix)\n",
    "   \n",
    "    model_accuracy_precision_recall(y_test_stat2, y_pred)\n",
    "    print(\"\\n\\n=================== classification report ===================\")\n",
    "    print(classification_report(y_test_stat2, y_pred))\n",
    "    \n",
    "    return y_pred"
   ]
  },
  {
   "cell_type": "code",
   "execution_count": 52,
   "id": "821608bd",
   "metadata": {},
   "outputs": [
    {
     "name": "stdout",
     "output_type": "stream",
     "text": [
      "\n",
      "\n",
      "===== confusion matrix =====\n",
      "[[83 65]\n",
      " [75 90]]\n",
      "\n",
      "\n",
      "================== Accuracy, Precision, Recall ==================\n",
      "Accuracy: 0.5527156549520766\n",
      "Precision: 0.5806451612903226\n",
      "Recall: 0.5454545454545454\n",
      "\n",
      "\n",
      "=================== classification report ===================\n",
      "              precision    recall  f1-score   support\n",
      "\n",
      "           0       0.53      0.56      0.54       148\n",
      "           1       0.58      0.55      0.56       165\n",
      "\n",
      "    accuracy                           0.55       313\n",
      "   macro avg       0.55      0.55      0.55       313\n",
      "weighted avg       0.55      0.55      0.55       313\n",
      "\n"
     ]
    },
    {
     "name": "stderr",
     "output_type": "stream",
     "text": [
      "C:\\Users\\kiran\\AppData\\Local\\Temp\\ipykernel_23932\\277482347.py:7: FutureWarning: The frame.append method is deprecated and will be removed from pandas in a future version. Use pandas.concat instead.\n",
      "  scoreparam_df = scoreparam_df.append({'Classifier' : 'KNN Param tuned_n17', 'Stategy' : 'Stategy 2', 'Accuracy' : acc_pramtuned_knn_stat2, 'Precision': pre_pramtuned_knn_stat2,'Recall': rec_pramtuned_knn_stat2},\n"
     ]
    }
   ],
   "source": [
    "y_pred = param_tuned_knn(X_train_stat2, y_train_stat2, X_test_stat2, y_test_stat2)\n",
    "\n",
    "acc_pramtuned_knn_stat2 = metrics.accuracy_score(y_test_stat2, y_pred)\n",
    "pre_pramtuned_knn_stat2 = metrics.precision_score(y_test_stat2, y_pred)\n",
    "rec_pramtuned_knn_stat2 = metrics.recall_score(y_test_stat2, y_pred)\n",
    "\n",
    "scoreparam_df = scoreparam_df.append({'Classifier' : 'KNN Param tuned_n17', 'Stategy' : 'Stategy 2', 'Accuracy' : acc_pramtuned_knn_stat2, 'Precision': pre_pramtuned_knn_stat2,'Recall': rec_pramtuned_knn_stat2}, \n",
    "                ignore_index = True)"
   ]
  },
  {
   "cell_type": "code",
   "execution_count": 53,
   "id": "cabf9458",
   "metadata": {},
   "outputs": [
    {
     "name": "stdout",
     "output_type": "stream",
     "text": [
      "\n",
      "\n",
      "===== confusion matrix =====\n",
      "[[77 71]\n",
      " [67 98]]\n",
      "\n",
      "\n",
      "================== Accuracy, Precision, Recall ==================\n",
      "Accuracy: 0.5591054313099042\n",
      "Precision: 0.5798816568047337\n",
      "Recall: 0.593939393939394\n",
      "\n",
      "\n",
      "=================== classification report ===================\n",
      "              precision    recall  f1-score   support\n",
      "\n",
      "           0       0.53      0.52      0.53       148\n",
      "           1       0.58      0.59      0.59       165\n",
      "\n",
      "    accuracy                           0.56       313\n",
      "   macro avg       0.56      0.56      0.56       313\n",
      "weighted avg       0.56      0.56      0.56       313\n",
      "\n"
     ]
    },
    {
     "name": "stderr",
     "output_type": "stream",
     "text": [
      "C:\\Users\\kiran\\AppData\\Local\\Temp\\ipykernel_23932\\468422104.py:7: FutureWarning: The frame.append method is deprecated and will be removed from pandas in a future version. Use pandas.concat instead.\n",
      "  scoreparam_df = scoreparam_df.append({'Classifier' : 'KNN Param tuned_n12', 'Stategy' : 'Stategy 2', 'Accuracy' : acc_pramtuned_knn_1_stat2, 'Precision': pre_pramtuned_knn_1_stat2,'Recall': rec_pramtuned_knn_1_stat2},\n"
     ]
    }
   ],
   "source": [
    "y_pred = param_tuned_knn_1(X_train_stat2, y_train_stat2, X_test_stat2, y_test_stat2)\n",
    "\n",
    "acc_pramtuned_knn_1_stat2 = metrics.accuracy_score(y_test_stat2, y_pred)\n",
    "pre_pramtuned_knn_1_stat2 = metrics.precision_score(y_test_stat2, y_pred)\n",
    "rec_pramtuned_knn_1_stat2 = metrics.recall_score(y_test_stat2, y_pred)\n",
    "\n",
    "scoreparam_df = scoreparam_df.append({'Classifier' : 'KNN Param tuned_n12', 'Stategy' : 'Stategy 2', 'Accuracy' : acc_pramtuned_knn_1_stat2, 'Precision': pre_pramtuned_knn_1_stat2,'Recall': rec_pramtuned_knn_1_stat2}, \n",
    "                ignore_index = True)"
   ]
  },
  {
   "cell_type": "code",
   "execution_count": 54,
   "id": "a76b72b9",
   "metadata": {},
   "outputs": [
    {
     "name": "stdout",
     "output_type": "stream",
     "text": [
      "\n",
      "\n",
      "===== confusion matrix =====\n",
      "[[ 84  92]\n",
      " [ 75 102]]\n",
      "\n",
      "\n",
      "================== Accuracy, Precision, Recall ==================\n",
      "Accuracy: 0.5269121813031161\n",
      "Precision: 0.5257731958762887\n",
      "Recall: 0.576271186440678\n",
      "\n",
      "\n",
      "=================== classification report ===================\n",
      "              precision    recall  f1-score   support\n",
      "\n",
      "          -1       0.53      0.48      0.50       176\n",
      "           1       0.53      0.58      0.55       177\n",
      "\n",
      "    accuracy                           0.53       353\n",
      "   macro avg       0.53      0.53      0.53       353\n",
      "weighted avg       0.53      0.53      0.53       353\n",
      "\n"
     ]
    },
    {
     "name": "stderr",
     "output_type": "stream",
     "text": [
      "C:\\Users\\kiran\\AppData\\Local\\Temp\\ipykernel_23932\\3905131008.py:7: FutureWarning: The frame.append method is deprecated and will be removed from pandas in a future version. Use pandas.concat instead.\n",
      "  scoreparam_df = scoreparam_df.append({'Classifier' : 'KNN Param tuned_n17', 'Stategy' : 'Stategy 1', 'Accuracy' : acc_pramtuned_knn_stat1, 'Precision': pre_pramtuned_knn_stat1,'Recall': rec_pramtuned_knn_stat1},\n"
     ]
    }
   ],
   "source": [
    "y_pred_stat1 = param_tuned_knn(X_train, y_train, X_test, y_test)\n",
    "\n",
    "acc_pramtuned_knn_stat1 = metrics.accuracy_score(y_test, y_pred_stat1)\n",
    "pre_pramtuned_knn_stat1 = metrics.precision_score(y_test, y_pred_stat1)\n",
    "rec_pramtuned_knn_stat1 = metrics.recall_score(y_test, y_pred_stat1)\n",
    "\n",
    "scoreparam_df = scoreparam_df.append({'Classifier' : 'KNN Param tuned_n17', 'Stategy' : 'Stategy 1', 'Accuracy' : acc_pramtuned_knn_stat1, 'Precision': pre_pramtuned_knn_stat1,'Recall': rec_pramtuned_knn_stat1}, \n",
    "               ignore_index = True)\n"
   ]
  },
  {
   "cell_type": "code",
   "execution_count": 55,
   "id": "bdccafde",
   "metadata": {},
   "outputs": [
    {
     "name": "stdout",
     "output_type": "stream",
     "text": [
      "\n",
      "\n",
      "===== confusion matrix =====\n",
      "[[ 67 109]\n",
      " [ 59 118]]\n",
      "\n",
      "\n",
      "================== Accuracy, Precision, Recall ==================\n",
      "Accuracy: 0.5240793201133145\n",
      "Precision: 0.5198237885462555\n",
      "Recall: 0.6666666666666666\n",
      "\n",
      "\n",
      "=================== classification report ===================\n",
      "              precision    recall  f1-score   support\n",
      "\n",
      "          -1       0.53      0.38      0.44       176\n",
      "           1       0.52      0.67      0.58       177\n",
      "\n",
      "    accuracy                           0.52       353\n",
      "   macro avg       0.53      0.52      0.51       353\n",
      "weighted avg       0.53      0.52      0.51       353\n",
      "\n"
     ]
    },
    {
     "name": "stderr",
     "output_type": "stream",
     "text": [
      "C:\\Users\\kiran\\AppData\\Local\\Temp\\ipykernel_23932\\3032154453.py:7: FutureWarning: The frame.append method is deprecated and will be removed from pandas in a future version. Use pandas.concat instead.\n",
      "  scoreparam_df = scoreparam_df.append({'Classifier' : 'KNN Param tuned_n12', 'Stategy' : 'Stategy 1', 'Accuracy' : acc_pramtuned_knn_1_stat1, 'Precision': pre_pramtuned_knn_1_stat1,'Recall': rec_pramtuned_knn_1_stat1},\n"
     ]
    }
   ],
   "source": [
    "y_pred_stat1 = param_tuned_knn_1(X_train, y_train, X_test, y_test)\n",
    "\n",
    "acc_pramtuned_knn_1_stat1 = metrics.accuracy_score(y_test, y_pred_stat1)\n",
    "pre_pramtuned_knn_1_stat1 = metrics.precision_score(y_test, y_pred_stat1)\n",
    "rec_pramtuned_knn_1_stat1 = metrics.recall_score(y_test, y_pred_stat1)\n",
    "\n",
    "scoreparam_df = scoreparam_df.append({'Classifier' : 'KNN Param tuned_n12', 'Stategy' : 'Stategy 1', 'Accuracy' : acc_pramtuned_knn_1_stat1, 'Precision': pre_pramtuned_knn_1_stat1,'Recall': rec_pramtuned_knn_1_stat1}, \n",
    "               ignore_index = True)\n"
   ]
  },
  {
   "cell_type": "markdown",
   "id": "41c884c7",
   "metadata": {},
   "source": [
    "### Model Comparision "
   ]
  },
  {
   "cell_type": "code",
   "execution_count": 56,
   "id": "14c61daa",
   "metadata": {},
   "outputs": [
    {
     "data": {
      "text/html": [
       "<div>\n",
       "<style scoped>\n",
       "    .dataframe tbody tr th:only-of-type {\n",
       "        vertical-align: middle;\n",
       "    }\n",
       "\n",
       "    .dataframe tbody tr th {\n",
       "        vertical-align: top;\n",
       "    }\n",
       "\n",
       "    .dataframe thead th {\n",
       "        text-align: right;\n",
       "    }\n",
       "</style>\n",
       "<table border=\"1\" class=\"dataframe\">\n",
       "  <thead>\n",
       "    <tr style=\"text-align: right;\">\n",
       "      <th></th>\n",
       "      <th>Classifier</th>\n",
       "      <th>Stategy</th>\n",
       "      <th>Accuracy</th>\n",
       "      <th>Precision</th>\n",
       "      <th>Recall</th>\n",
       "    </tr>\n",
       "  </thead>\n",
       "  <tbody>\n",
       "    <tr>\n",
       "      <th>0</th>\n",
       "      <td>KNN</td>\n",
       "      <td>Stategy 1</td>\n",
       "      <td>0.481586</td>\n",
       "      <td>0.484536</td>\n",
       "      <td>0.531073</td>\n",
       "    </tr>\n",
       "    <tr>\n",
       "      <th>1</th>\n",
       "      <td>RF</td>\n",
       "      <td>Stategy 1</td>\n",
       "      <td>0.490085</td>\n",
       "      <td>0.492147</td>\n",
       "      <td>0.531073</td>\n",
       "    </tr>\n",
       "    <tr>\n",
       "      <th>2</th>\n",
       "      <td>GB</td>\n",
       "      <td>Stategy 1</td>\n",
       "      <td>0.504249</td>\n",
       "      <td>0.504902</td>\n",
       "      <td>0.581921</td>\n",
       "    </tr>\n",
       "    <tr>\n",
       "      <th>3</th>\n",
       "      <td>SVM</td>\n",
       "      <td>Stategy 1</td>\n",
       "      <td>0.501416</td>\n",
       "      <td>0.501597</td>\n",
       "      <td>0.887006</td>\n",
       "    </tr>\n",
       "    <tr>\n",
       "      <th>4</th>\n",
       "      <td>XGBoost</td>\n",
       "      <td>Stategy 1</td>\n",
       "      <td>0.495751</td>\n",
       "      <td>0.497487</td>\n",
       "      <td>0.559322</td>\n",
       "    </tr>\n",
       "    <tr>\n",
       "      <th>5</th>\n",
       "      <td>KNN</td>\n",
       "      <td>Stategy 2</td>\n",
       "      <td>0.523962</td>\n",
       "      <td>0.556338</td>\n",
       "      <td>0.478788</td>\n",
       "    </tr>\n",
       "    <tr>\n",
       "      <th>6</th>\n",
       "      <td>RF</td>\n",
       "      <td>Stategy 2</td>\n",
       "      <td>0.996805</td>\n",
       "      <td>0.993976</td>\n",
       "      <td>1.000000</td>\n",
       "    </tr>\n",
       "    <tr>\n",
       "      <th>7</th>\n",
       "      <td>GB</td>\n",
       "      <td>Stategy 2</td>\n",
       "      <td>1.000000</td>\n",
       "      <td>1.000000</td>\n",
       "      <td>1.000000</td>\n",
       "    </tr>\n",
       "    <tr>\n",
       "      <th>8</th>\n",
       "      <td>SVM</td>\n",
       "      <td>Stategy 2</td>\n",
       "      <td>0.578275</td>\n",
       "      <td>0.596491</td>\n",
       "      <td>0.618182</td>\n",
       "    </tr>\n",
       "    <tr>\n",
       "      <th>9</th>\n",
       "      <td>XGBoost</td>\n",
       "      <td>Stategy 2</td>\n",
       "      <td>1.000000</td>\n",
       "      <td>1.000000</td>\n",
       "      <td>1.000000</td>\n",
       "    </tr>\n",
       "    <tr>\n",
       "      <th>10</th>\n",
       "      <td>KNN Param tuned_n17</td>\n",
       "      <td>Stategy 2</td>\n",
       "      <td>0.552716</td>\n",
       "      <td>0.580645</td>\n",
       "      <td>0.545455</td>\n",
       "    </tr>\n",
       "    <tr>\n",
       "      <th>11</th>\n",
       "      <td>KNN Param tuned_n12</td>\n",
       "      <td>Stategy 2</td>\n",
       "      <td>0.559105</td>\n",
       "      <td>0.579882</td>\n",
       "      <td>0.593939</td>\n",
       "    </tr>\n",
       "    <tr>\n",
       "      <th>12</th>\n",
       "      <td>KNN Param tuned_n17</td>\n",
       "      <td>Stategy 1</td>\n",
       "      <td>0.526912</td>\n",
       "      <td>0.525773</td>\n",
       "      <td>0.576271</td>\n",
       "    </tr>\n",
       "    <tr>\n",
       "      <th>13</th>\n",
       "      <td>KNN Param tuned_n12</td>\n",
       "      <td>Stategy 1</td>\n",
       "      <td>0.524079</td>\n",
       "      <td>0.519824</td>\n",
       "      <td>0.666667</td>\n",
       "    </tr>\n",
       "  </tbody>\n",
       "</table>\n",
       "</div>"
      ],
      "text/plain": [
       "             Classifier    Stategy  Accuracy  Precision    Recall\n",
       "0                   KNN  Stategy 1  0.481586   0.484536  0.531073\n",
       "1                    RF  Stategy 1  0.490085   0.492147  0.531073\n",
       "2                    GB  Stategy 1  0.504249   0.504902  0.581921\n",
       "3                   SVM  Stategy 1  0.501416   0.501597  0.887006\n",
       "4               XGBoost  Stategy 1  0.495751   0.497487  0.559322\n",
       "5                   KNN  Stategy 2  0.523962   0.556338  0.478788\n",
       "6                    RF  Stategy 2  0.996805   0.993976  1.000000\n",
       "7                    GB  Stategy 2  1.000000   1.000000  1.000000\n",
       "8                   SVM  Stategy 2  0.578275   0.596491  0.618182\n",
       "9               XGBoost  Stategy 2  1.000000   1.000000  1.000000\n",
       "10  KNN Param tuned_n17  Stategy 2  0.552716   0.580645  0.545455\n",
       "11  KNN Param tuned_n12  Stategy 2  0.559105   0.579882  0.593939\n",
       "12  KNN Param tuned_n17  Stategy 1  0.526912   0.525773  0.576271\n",
       "13  KNN Param tuned_n12  Stategy 1  0.524079   0.519824  0.666667"
      ]
     },
     "execution_count": 56,
     "metadata": {},
     "output_type": "execute_result"
    }
   ],
   "source": [
    "## Score\n",
    "scoreparam_df.sort_values(by='Accuracy',ascending=False)\n",
    "scoreparam_df\n"
   ]
  },
  {
   "cell_type": "markdown",
   "id": "015bb880",
   "metadata": {},
   "source": [
    "***************************************************************************************************************************"
   ]
  },
  {
   "cell_type": "markdown",
   "id": "6586f980",
   "metadata": {},
   "source": [
    "## Strategy1: Best Accuracy is:  Gradient boost with accuracy if = 0.504249\n",
    "## Strategy2: Best Accuracy is:  Random Forest with accuracy if = 0.996\n"
   ]
  },
  {
   "cell_type": "markdown",
   "id": "0720ee9c",
   "metadata": {},
   "source": [
    "***************************************************************************************************************************"
   ]
  },
  {
   "cell_type": "markdown",
   "id": "714b665f",
   "metadata": {},
   "source": [
    "THANK YOU"
   ]
  },
  {
   "cell_type": "code",
   "execution_count": null,
   "id": "3d6ecc2c",
   "metadata": {},
   "outputs": [],
   "source": []
  }
 ],
 "metadata": {
  "kernelspec": {
   "display_name": "Python 3 (ipykernel)",
   "language": "python",
   "name": "python3"
  },
  "language_info": {
   "codemirror_mode": {
    "name": "ipython",
    "version": 3
   },
   "file_extension": ".py",
   "mimetype": "text/x-python",
   "name": "python",
   "nbconvert_exporter": "python",
   "pygments_lexer": "ipython3",
   "version": "3.9.7"
  }
 },
 "nbformat": 4,
 "nbformat_minor": 5
}
